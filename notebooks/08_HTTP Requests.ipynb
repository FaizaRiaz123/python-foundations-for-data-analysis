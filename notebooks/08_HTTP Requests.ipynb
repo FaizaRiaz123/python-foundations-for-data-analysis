{
 "cells": [
  {
   "cell_type": "markdown",
   "id": "dcc58168-e34a-41d6-a7fc-d1817ed32397",
   "metadata": {},
   "source": [
    "<h3>Request libray in Python</h3>"
   ]
  },
  {
   "cell_type": "code",
   "execution_count": 6,
   "id": "7c7434bf-6ec6-420f-8536-0dac6109d9f8",
   "metadata": {},
   "outputs": [
    {
     "name": "stdout",
     "output_type": "stream",
     "text": [
      "200\n"
     ]
    }
   ],
   "source": [
    "import requests\n",
    "url = \"https://www.ibm.com/\"\n",
    "#make a request using 'get' method\n",
    "r = requests.get(url)\n",
    "print(r.status_code)  #200 status_code means ok or successful"
   ]
  },
  {
   "cell_type": "code",
   "execution_count": 8,
   "id": "f15dea07-6c4f-4ddf-8dee-c560ff1ab8bb",
   "metadata": {},
   "outputs": [
    {
     "data": {
      "text/plain": [
       "{'User-Agent': 'python-requests/2.32.3', 'Accept-Encoding': 'gzip, deflate, br, zstd', 'Accept': '*/*', 'Connection': 'keep-alive', 'Cookie': '_abck=626A4CAC60A252B4723C9CBF88D942DA~-1~YAAQLvV0aK6p1gSWAQAAitcAPg2kF4RJrvIZkHlxBcLTWKF1yKgKzWzzZmbX7iahWMj8hvsGV8yXrtwyQZ4gYZBNjeOduoptZ+0eWwLHRZFYGINQGxA5MlOz8PGXTE/xzbwmeN+gyPS30O5r3CWC2EWlGMTqd6lanq4VHNPIcOy+pUgwGaGq07YbX/cnKnXbqygdqOSKXQB/o13Vij+71M6pYzEUMmW9ONOsB2e5QP3XgT+oRNr5B91FbtqSCXRFk2ZSWOGcCrzgVfg5Gd6GSWDw/qCQ6iOBiYBrv3sMLqjyb9QyHkETCUZAp3Y1Rflo8NikLY2KXRpAr9qm62jCquQJuRgfL4mRc790lnD8jqXtK44N82PqBbDr2uBr/8HpYfvWd8hTcEs78rR5NKiiAMbkPohGdWY=~-1~-1~-1; bm_sz=7B40CE321699D9A58C7674F94303D641~YAAQLvV0aK+p1gSWAQAAitcAPhtK7eu2PUnBDib2BsjMc9Gt7Z4ft2zpkFTStGZ4xiAt55Y+/1hUZFP+qfxl2PA/vVyGy3qDfIn91jQrHEbpQUday8PO+MmCpH20/6sq5Fi2Hx66vH/9C6hK4RJPRD3HBxvagZcXizIhHb24U3d5FgQQJjhGE5flIoGGZ+KTJ/dHkWnra3r6YaNoTyvGVKYBT8TJVyl4qbjdBCPjyyTmH2Av1QLFyYJ0YQfgti6lEnk9NYX0fSstlkvF52QHPenYA9huli3VkRXWMbR4kO92JikBzKzJ/SkkDhZdTbtoc6YHB5ENZHKNB3yrdTwxWxzC6hdwL2CiPw==~4273203~3490611'}"
      ]
     },
     "execution_count": 8,
     "metadata": {},
     "output_type": "execute_result"
    }
   ],
   "source": [
    "r.request.headers"
   ]
  },
  {
   "cell_type": "code",
   "execution_count": 14,
   "id": "5d79a438-c1ae-43ec-b126-f9d284eaafec",
   "metadata": {},
   "outputs": [
    {
     "name": "stdout",
     "output_type": "stream",
     "text": [
      "None\n"
     ]
    }
   ],
   "source": [
    "#view request body\n",
    "print(r.request.body)  #returns none bcz no body"
   ]
  },
  {
   "cell_type": "code",
   "execution_count": 18,
   "id": "292f3d4b-83e7-4cfb-b99b-64be69edae10",
   "metadata": {},
   "outputs": [
    {
     "data": {
      "text/plain": [
       "{'Content-Security-Policy': 'upgrade-insecure-requests', 'x-frame-options': 'SAMEORIGIN', 'Last-Modified': 'Wed, 16 Apr 2025 09:11:56 GMT', 'ETag': '\"28e82-632e1ad472860-gzip\"', 'Accept-Ranges': 'bytes', 'Content-Type': 'text/html;charset=utf-8', 'X-Content-Type-Options': 'nosniff', 'Cache-Control': 'max-age=600', 'Expires': 'Wed, 16 Apr 2025 09:59:26 GMT', 'X-Akamai-Transformed': '9 29772 0 pmb=mTOE,1', 'Content-Encoding': 'gzip', 'Date': 'Wed, 16 Apr 2025 09:49:26 GMT', 'Content-Length': '29937', 'Connection': 'keep-alive', 'Vary': 'Accept-Encoding', 'Strict-Transport-Security': 'max-age=31536000'}"
      ]
     },
     "execution_count": 18,
     "metadata": {},
     "output_type": "execute_result"
    }
   ],
   "source": [
    "#viewing the response header\n",
    "header = r.headers\n",
    "header"
   ]
  },
  {
   "cell_type": "code",
   "execution_count": 26,
   "id": "02e6089a-d4ed-45a0-bcf7-ae02194086ce",
   "metadata": {},
   "outputs": [
    {
     "data": {
      "text/plain": [
       "'Wed, 16 Apr 2025 09:49:26 GMT'"
      ]
     },
     "execution_count": 26,
     "metadata": {},
     "output_type": "execute_result"
    }
   ],
   "source": [
    "#check date of request sending\n",
    "header['date']"
   ]
  },
  {
   "cell_type": "code",
   "execution_count": 28,
   "id": "3f06d150-e444-46e4-a751-8f524b25f4c9",
   "metadata": {},
   "outputs": [
    {
     "data": {
      "text/plain": [
       "'text/html;charset=utf-8'"
      ]
     },
     "execution_count": 28,
     "metadata": {},
     "output_type": "execute_result"
    }
   ],
   "source": [
    "header['Content-Type']   #indicates type of data"
   ]
  },
  {
   "cell_type": "code",
   "execution_count": 30,
   "id": "95fe8b38-d0d6-417a-a38f-c31323927488",
   "metadata": {},
   "outputs": [
    {
     "data": {
      "text/plain": [
       "'utf-8'"
      ]
     },
     "execution_count": 30,
     "metadata": {},
     "output_type": "execute_result"
    }
   ],
   "source": [
    "r.encoding"
   ]
  },
  {
   "cell_type": "code",
   "execution_count": 32,
   "id": "a0f2e50f-f81c-4116-aa99-a11ec9e1c9ff",
   "metadata": {},
   "outputs": [
    {
     "data": {
      "text/plain": [
       "'\\n<!DOCTYPE HTML>\\n<html lang=\"en\">\\n<head>\\r\\n    \\r\\n    \\r\\n    \\r\\n    \\r\\n    \\r\\n    \\r\\n    \\r\\n      \\r\\n    \\r\\n  '"
      ]
     },
     "execution_count": 32,
     "metadata": {},
     "output_type": "execute_result"
    }
   ],
   "source": [
    "r.text[0:100]  #to display fitst 100 characters of html in the body"
   ]
  },
  {
   "cell_type": "code",
   "execution_count": 40,
   "id": "50453407-2331-47ea-aab4-fc59f83b677a",
   "metadata": {},
   "outputs": [
    {
     "data": {
      "text/plain": [
       "'http://httpbin.org/get?name=Joseph&ID=123'"
      ]
     },
     "execution_count": 40,
     "metadata": {},
     "output_type": "execute_result"
    }
   ],
   "source": [
    "#use GET method to modify the results of query,eg. retrieving data from API\n",
    "#sending GET request to the server\n",
    "#httpbin is a simple HTTP Request and Response Service\n",
    "url_get = 'http://httpbin.org/get'\n",
    "\n",
    "#Now create the 'Query String' suing dictionary, part of URL & sends other info to web server\n",
    "#keys are parameter names and values are values of the Query string\n",
    "payload = {\"name\":\"Joseph\",\"ID\":\"123\"}\n",
    "\n",
    "#pass dictionary to the params parameter of the get() function\n",
    "r=requests.get(url_get,params=payload)\n",
    "r.url\n"
   ]
  },
  {
   "cell_type": "code",
   "execution_count": 44,
   "id": "efefc6de-c942-43ee-9abc-889497518de5",
   "metadata": {},
   "outputs": [
    {
     "name": "stdout",
     "output_type": "stream",
     "text": [
      "None\n"
     ]
    }
   ],
   "source": [
    "#request body\n",
    "print(r.request.body)"
   ]
  },
  {
   "cell_type": "code",
   "execution_count": 46,
   "id": "3c8a34c2-a37e-4e8a-9be6-c64123608305",
   "metadata": {},
   "outputs": [
    {
     "data": {
      "text/plain": [
       "200"
      ]
     },
     "execution_count": 46,
     "metadata": {},
     "output_type": "execute_result"
    }
   ],
   "source": [
    "#status code\n",
    "r.status_code"
   ]
  },
  {
   "cell_type": "code",
   "execution_count": 56,
   "id": "1be46853-8f5f-427d-b5f6-5276e367cccd",
   "metadata": {},
   "outputs": [
    {
     "data": {
      "text/plain": [
       "'{\\n  \"args\": {\\n    \"ID\": \"123\", \\n    \"name\": \"Joseph\"\\n  }, \\n  \"headers\": {\\n    \"Accept\": \"*/*\", \\n    \"Accept-Encoding\": \"gzip, deflate, br, zstd\", \\n    \"Host\": \"httpbin.org\", \\n    \"User-Agent\": \"python-requests/2.32.3\", \\n    \"X-Amzn-Trace-Id\": \"Root=1-67ff8af8-4756281b577b7475731e12a4\"\\n  }, \\n  \"origin\": \"103.174.4.43\", \\n  \"url\": \"http://httpbin.org/get?name=Joseph&ID=123\"\\n}\\n'"
      ]
     },
     "execution_count": 56,
     "metadata": {},
     "output_type": "execute_result"
    }
   ],
   "source": [
    "#view response as text\n",
    "r.text"
   ]
  },
  {
   "cell_type": "code",
   "execution_count": 50,
   "id": "0337b45d-27a7-49d5-bfc6-971074605175",
   "metadata": {},
   "outputs": [
    {
     "data": {
      "text/plain": [
       "'application/json'"
      ]
     },
     "execution_count": 50,
     "metadata": {},
     "output_type": "execute_result"
    }
   ],
   "source": [
    "r.headers['Content-Type']"
   ]
  },
  {
   "cell_type": "code",
   "execution_count": 52,
   "id": "e92da1e5-87b6-4c05-a966-256887cedb52",
   "metadata": {},
   "outputs": [
    {
     "data": {
      "text/plain": [
       "{'args': {'ID': '123', 'name': 'Joseph'},\n",
       " 'headers': {'Accept': '*/*',\n",
       "  'Accept-Encoding': 'gzip, deflate, br, zstd',\n",
       "  'Host': 'httpbin.org',\n",
       "  'User-Agent': 'python-requests/2.32.3',\n",
       "  'X-Amzn-Trace-Id': 'Root=1-67ff8af8-4756281b577b7475731e12a4'},\n",
       " 'origin': '103.174.4.43',\n",
       " 'url': 'http://httpbin.org/get?name=Joseph&ID=123'}"
      ]
     },
     "execution_count": 52,
     "metadata": {},
     "output_type": "execute_result"
    }
   ],
   "source": [
    "#content type is JSON, so format it using the method json() which returns a python dict\n",
    "r.json()"
   ]
  },
  {
   "cell_type": "code",
   "execution_count": 54,
   "id": "082f9a3b-a21a-4373-8300-64538bb375ce",
   "metadata": {},
   "outputs": [
    {
     "data": {
      "text/plain": [
       "{'ID': '123', 'name': 'Joseph'}"
      ]
     },
     "execution_count": 54,
     "metadata": {},
     "output_type": "execute_result"
    }
   ],
   "source": [
    "r.json()['args']"
   ]
  },
  {
   "cell_type": "markdown",
   "id": "d96fc2f9-c681-4243-b99f-8f9c1a48bf6e",
   "metadata": {},
   "source": [
    "<h3>POST Request</h3>"
   ]
  },
  {
   "cell_type": "code",
   "execution_count": 61,
   "id": "b893cce1-f45c-42f8-b09f-c22b1d4825a8",
   "metadata": {},
   "outputs": [],
   "source": [
    "#POST request sends data to server, but it sends data in a 'request body', not the url.\n",
    "url_post = \"http://httpbin.org/post\"\n",
    "\n",
    "payload = {\"name\":\"Joseph\",\"ID\":\"123\"}\n",
    "\n",
    "#payload passed to the parameter data\n",
    "r_post = requests.post(url_post,data=payload)"
   ]
  },
  {
   "cell_type": "code",
   "execution_count": 63,
   "id": "ad6cdb79-c7de-424e-baf5-245c0afd702f",
   "metadata": {},
   "outputs": [
    {
     "name": "stdout",
     "output_type": "stream",
     "text": [
      "POST request URL: http://httpbin.org/post\n",
      "GET request URL: http://httpbin.org/get?name=Joseph&ID=123\n"
     ]
    }
   ],
   "source": [
    "#Comparing the URL of GET and POST Request\n",
    "print(\"POST request URL:\",r_post.url)\n",
    "print(\"GET request URL:\",r.url)"
   ]
  },
  {
   "cell_type": "code",
   "execution_count": 65,
   "id": "3d9d5877-e2f7-40a8-b403-dbacacf27eb0",
   "metadata": {},
   "outputs": [
    {
     "name": "stdout",
     "output_type": "stream",
     "text": [
      "POST request body: name=Joseph&ID=123\n",
      "GET request body: None\n"
     ]
    }
   ],
   "source": [
    "#Comparing the Body of GET and POST Request\n",
    "print(\"POST request body:\",r_post.request.body)\n",
    "print(\"GET request body:\",r.request.body)"
   ]
  },
  {
   "cell_type": "code",
   "execution_count": 69,
   "id": "2724f392-b020-4ae6-9ae9-9988953b2cb4",
   "metadata": {},
   "outputs": [
    {
     "data": {
      "text/plain": [
       "{'ID': '123', 'name': 'Joseph'}"
      ]
     },
     "execution_count": 69,
     "metadata": {},
     "output_type": "execute_result"
    }
   ],
   "source": [
    "r_post.json()['form']"
   ]
  },
  {
   "cell_type": "code",
   "execution_count": null,
   "id": "1dca5d6a-0503-444b-aac9-84f52e513884",
   "metadata": {},
   "outputs": [],
   "source": []
  }
 ],
 "metadata": {
  "kernelspec": {
   "display_name": "Python [conda env:base] *",
   "language": "python",
   "name": "conda-base-py"
  },
  "language_info": {
   "codemirror_mode": {
    "name": "ipython",
    "version": 3
   },
   "file_extension": ".py",
   "mimetype": "text/x-python",
   "name": "python",
   "nbconvert_exporter": "python",
   "pygments_lexer": "ipython3",
   "version": "3.12.7"
  }
 },
 "nbformat": 4,
 "nbformat_minor": 5
}
