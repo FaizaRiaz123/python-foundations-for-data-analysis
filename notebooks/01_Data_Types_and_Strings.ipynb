{
 "cells": [
  {
   "cell_type": "markdown",
   "id": "884468ab-bf6e-4db3-8382-c494c487a854",
   "metadata": {},
   "source": [
    "<h3>Data Types</h3>"
   ]
  },
  {
   "cell_type": "code",
   "execution_count": 5,
   "id": "811d8514-14a1-4758-ae2b-a7270a84cf04",
   "metadata": {},
   "outputs": [
    {
     "name": "stdout",
     "output_type": "stream",
     "text": [
      "3.12.7 | packaged by Anaconda, Inc. | (main, Oct  4 2024, 13:17:27) [MSC v.1929 64 bit (AMD64)]\n"
     ]
    }
   ],
   "source": [
    "import sys\n",
    "print(sys.version)"
   ]
  },
  {
   "cell_type": "code",
   "execution_count": 7,
   "id": "0e178581-a5eb-4e10-845b-13460f55f496",
   "metadata": {},
   "outputs": [
    {
     "data": {
      "text/plain": [
       "2.0"
      ]
     },
     "execution_count": 7,
     "metadata": {},
     "output_type": "execute_result"
    }
   ],
   "source": [
    "float(2)"
   ]
  },
  {
   "cell_type": "code",
   "execution_count": 13,
   "id": "d4511867-ef2d-4faf-b288-acc1c16039a0",
   "metadata": {},
   "outputs": [
    {
     "data": {
      "text/plain": [
       "1"
      ]
     },
     "execution_count": 13,
     "metadata": {},
     "output_type": "execute_result"
    }
   ],
   "source": [
    "int(1.7)"
   ]
  },
  {
   "cell_type": "code",
   "execution_count": 15,
   "id": "21dc1075-b952-488b-a32b-ce7569f57b69",
   "metadata": {},
   "outputs": [
    {
     "data": {
      "text/plain": [
       "1"
      ]
     },
     "execution_count": 15,
     "metadata": {},
     "output_type": "execute_result"
    }
   ],
   "source": [
    "int('1')"
   ]
  },
  {
   "cell_type": "code",
   "execution_count": 17,
   "id": "7fa31258-0235-4135-ac60-aa99fe15f791",
   "metadata": {},
   "outputs": [
    {
     "ename": "ValueError",
     "evalue": "invalid literal for int() with base 10: 'A'",
     "output_type": "error",
     "traceback": [
      "\u001b[1;31m---------------------------------------------------------------------------\u001b[0m",
      "\u001b[1;31mValueError\u001b[0m                                Traceback (most recent call last)",
      "Cell \u001b[1;32mIn[17], line 1\u001b[0m\n\u001b[1;32m----> 1\u001b[0m \u001b[38;5;28mint\u001b[39m(\u001b[38;5;124m'\u001b[39m\u001b[38;5;124mA\u001b[39m\u001b[38;5;124m'\u001b[39m)\n",
      "\u001b[1;31mValueError\u001b[0m: invalid literal for int() with base 10: 'A'"
     ]
    }
   ],
   "source": [
    "int('A')"
   ]
  },
  {
   "cell_type": "code",
   "execution_count": 19,
   "id": "56bcf7b3-8768-4838-974f-98edb78a8a9a",
   "metadata": {},
   "outputs": [
    {
     "data": {
      "text/plain": [
       "'1'"
      ]
     },
     "execution_count": 19,
     "metadata": {},
     "output_type": "execute_result"
    }
   ],
   "source": [
    "str(1)"
   ]
  },
  {
   "cell_type": "code",
   "execution_count": 21,
   "id": "cc27369f-9c95-47ef-becd-14f16615f9a5",
   "metadata": {},
   "outputs": [
    {
     "data": {
      "text/plain": [
       "'1.8'"
      ]
     },
     "execution_count": 21,
     "metadata": {},
     "output_type": "execute_result"
    }
   ],
   "source": [
    "str(1.8)"
   ]
  },
  {
   "cell_type": "code",
   "execution_count": 25,
   "id": "afa32174-6738-42de-8323-8f146a30f632",
   "metadata": {},
   "outputs": [
    {
     "data": {
      "text/plain": [
       "bool"
      ]
     },
     "execution_count": 25,
     "metadata": {},
     "output_type": "execute_result"
    }
   ],
   "source": [
    "type(True)"
   ]
  },
  {
   "cell_type": "code",
   "execution_count": 27,
   "id": "4639ee61-f3a1-4417-a07d-d32db5f54180",
   "metadata": {},
   "outputs": [
    {
     "data": {
      "text/plain": [
       "1"
      ]
     },
     "execution_count": 27,
     "metadata": {},
     "output_type": "execute_result"
    }
   ],
   "source": [
    "int(True)"
   ]
  },
  {
   "cell_type": "code",
   "execution_count": 29,
   "id": "481ee38a-0912-43d0-9bc1-c54e9500958a",
   "metadata": {},
   "outputs": [
    {
     "data": {
      "text/plain": [
       "False"
      ]
     },
     "execution_count": 29,
     "metadata": {},
     "output_type": "execute_result"
    }
   ],
   "source": [
    "bool(0)"
   ]
  },
  {
   "cell_type": "markdown",
   "id": "b86004e1-ea35-44a0-912a-0aa528986163",
   "metadata": {},
   "source": [
    "<h3>variables and expressions</h3>"
   ]
  },
  {
   "cell_type": "code",
   "execution_count": 1,
   "id": "98c3caf9-c07d-4b6f-b414-c8778e7710b8",
   "metadata": {},
   "outputs": [
    {
     "data": {
      "text/plain": [
       "5.0"
      ]
     },
     "execution_count": 1,
     "metadata": {},
     "output_type": "execute_result"
    }
   ],
   "source": [
    "25/5"
   ]
  },
  {
   "cell_type": "code",
   "execution_count": 3,
   "id": "7a447d72-44f2-4bc1-9c88-af2c55b708d5",
   "metadata": {},
   "outputs": [
    {
     "data": {
      "text/plain": [
       "5"
      ]
     },
     "execution_count": 3,
     "metadata": {},
     "output_type": "execute_result"
    }
   ],
   "source": [
    "25//5"
   ]
  },
  {
   "cell_type": "markdown",
   "id": "1620772a-9352-40ab-84be-3b7f28611afb",
   "metadata": {},
   "source": [
    "<h3>String Operations</h3>"
   ]
  },
  {
   "cell_type": "code",
   "execution_count": 31,
   "id": "6461ab53-cca6-4f0b-86d4-70e7d5c53237",
   "metadata": {},
   "outputs": [
    {
     "name": "stdout",
     "output_type": "stream",
     "text": [
      "F\n",
      "z\n",
      "Faiz\n",
      "Riaz\n",
      "FiaRa\n",
      "Fia\n"
     ]
    }
   ],
   "source": [
    "name = 'Faiza Riaz'\n",
    "print(name[0])\n",
    "print(name[-1])\n",
    "print(name[0:4])\n",
    "print(name[6:10])\n",
    "print(name[::2]) #returns every second value\n",
    "print(name[0:5:2]) #returns every second value upto index 4"
   ]
  },
  {
   "cell_type": "code",
   "execution_count": 51,
   "id": "dc4f0488-4974-488c-bdbe-b04939b2b8ad",
   "metadata": {},
   "outputs": [
    {
     "name": "stdout",
     "output_type": "stream",
     "text": [
      "10\n",
      "welcome \n",
      "Faiza Riaz\n",
      "Faiza RiazFaiza RiazFaiza Riaz\n"
     ]
    }
   ],
   "source": [
    "name = 'Faiza Riaz'\n",
    "print(len(name))  #string length\n",
    "msg = 'welcome \\n'+ name #concatenation and escape sequence\n",
    "print(msg)\n",
    "print(3*name)  #to replicate string"
   ]
  },
  {
   "cell_type": "code",
   "execution_count": 49,
   "id": "cc6fb7b6-3de1-45f7-bd25-a52e5d003d52",
   "metadata": {},
   "outputs": [
    {
     "ename": "TypeError",
     "evalue": "'str' object does not support item assignment",
     "output_type": "error",
     "traceback": [
      "\u001b[1;31m---------------------------------------------------------------------------\u001b[0m",
      "\u001b[1;31mTypeError\u001b[0m                                 Traceback (most recent call last)",
      "Cell \u001b[1;32mIn[49], line 1\u001b[0m\n\u001b[1;32m----> 1\u001b[0m name[\u001b[38;5;241m0\u001b[39m]\u001b[38;5;241m=\u001b[39m\u001b[38;5;124m'\u001b[39m\u001b[38;5;124mA\u001b[39m\u001b[38;5;124m'\u001b[39m\n\u001b[0;32m      2\u001b[0m \u001b[38;5;28mprint\u001b[39m(name)\n",
      "\u001b[1;31mTypeError\u001b[0m: 'str' object does not support item assignment"
     ]
    }
   ],
   "source": [
    "name[0]='A'   #string is immutable\n",
    "print(name)"
   ]
  },
  {
   "cell_type": "code",
   "execution_count": 118,
   "id": "232f9d52-8f26-47dd-821f-2ce32eefc9a1",
   "metadata": {},
   "outputs": [
    {
     "name": "stdout",
     "output_type": "stream",
     "text": [
      "I am a girl.\n",
      "I AM A GIRL.\n"
     ]
    },
    {
     "data": {
      "text/plain": [
       "'she is a girl.'"
      ]
     },
     "execution_count": 118,
     "metadata": {},
     "output_type": "execute_result"
    }
   ],
   "source": [
    "#String Methods\n",
    "A='I am a girl.'\n",
    "B=A.upper()   #Make uppercase letters.\n",
    "print(A+'\\n'+B)\n",
    "\n",
    "C=A.replace('I am', 'she is') #replace segment of string\n",
    "C"
   ]
  },
  {
   "cell_type": "code",
   "execution_count": 120,
   "id": "ca7f1f4d-f53d-4217-92ae-75a142483275",
   "metadata": {},
   "outputs": [
    {
     "name": "stdout",
     "output_type": "stream",
     "text": [
      "2\n",
      "-1\n"
     ]
    },
    {
     "data": {
      "text/plain": [
       "['I', 'am', 'a', 'girl.']"
      ]
     },
     "execution_count": 120,
     "metadata": {},
     "output_type": "execute_result"
    }
   ],
   "source": [
    "#String Methods conti....\n",
    "\n",
    "print(A.find('am'))  #find elements' place\n",
    "print(A.find('el')) #if not in the string prints -1\n",
    "A.split()\n"
   ]
  },
  {
   "cell_type": "markdown",
   "id": "b0609e80-1d06-4f72-a852-f3212900107b",
   "metadata": {},
   "source": [
    "<h3>String formats</h3>"
   ]
  },
  {
   "cell_type": "code",
   "execution_count": 94,
   "id": "dc552ee4-031b-4d63-bc81-c96752c095dd",
   "metadata": {},
   "outputs": [
    {
     "name": "stdout",
     "output_type": "stream",
     "text": [
      "My name is Faiza and age is 6\n",
      "My name is Faiza and age is 6\n",
      "My name is Faiza and age is 6\n",
      "Regular String: C:\n",
      "ew_folder\f",
      "ile.txt\n",
      "Raw String: C:\\new_folder\\file.txt\n"
     ]
    }
   ],
   "source": [
    "# Format Strings\n",
    "name='Faiza'\n",
    "age=6\n",
    "print(f'My name is {name} and age is {age}')\n",
    "print('My name is {} and age is {}'.format(name,age))\n",
    "print('My name is %s and age is %d'%(name,age))\n",
    "\n",
    "regular_string = \"C:\\new_folder\\file.txt\"\n",
    "print(\"Regular String:\", regular_string)\n",
    "\n",
    "raw_string = r\"C:\\new_folder\\file.txt\"\n",
    "print(\"Raw String:\", raw_string)"
   ]
  },
  {
   "cell_type": "code",
   "execution_count": null,
   "id": "b7cbdf4e-5014-4042-b426-f45582c02079",
   "metadata": {},
   "outputs": [],
   "source": []
  }
 ],
 "metadata": {
  "kernelspec": {
   "display_name": "Python [conda env:base] *",
   "language": "python",
   "name": "conda-base-py"
  },
  "language_info": {
   "codemirror_mode": {
    "name": "ipython",
    "version": 3
   },
   "file_extension": ".py",
   "mimetype": "text/x-python",
   "name": "python",
   "nbconvert_exporter": "python",
   "pygments_lexer": "ipython3",
   "version": "3.12.7"
  }
 },
 "nbformat": 4,
 "nbformat_minor": 5
}
