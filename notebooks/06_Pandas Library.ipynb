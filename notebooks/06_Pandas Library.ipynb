{
 "cells": [
  {
   "cell_type": "markdown",
   "id": "34fed602-5a31-48c5-a64a-3b14220f774e",
   "metadata": {},
   "source": [
    "<h3>Pandas</h3>"
   ]
  },
  {
   "cell_type": "code",
   "execution_count": 1,
   "id": "7f386cf6-8c4a-4cae-8225-ec04f81601bb",
   "metadata": {},
   "outputs": [
    {
     "data": {
      "text/html": [
       "<div>\n",
       "<style scoped>\n",
       "    .dataframe tbody tr th:only-of-type {\n",
       "        vertical-align: middle;\n",
       "    }\n",
       "\n",
       "    .dataframe tbody tr th {\n",
       "        vertical-align: top;\n",
       "    }\n",
       "\n",
       "    .dataframe thead th {\n",
       "        text-align: right;\n",
       "    }\n",
       "</style>\n",
       "<table border=\"1\" class=\"dataframe\">\n",
       "  <thead>\n",
       "    <tr style=\"text-align: right;\">\n",
       "      <th></th>\n",
       "      <th>Sales Person</th>\n",
       "      <th>Country</th>\n",
       "      <th>Product</th>\n",
       "      <th>Date</th>\n",
       "      <th>Amount</th>\n",
       "      <th>Boxes Shipped</th>\n",
       "    </tr>\n",
       "  </thead>\n",
       "  <tbody>\n",
       "    <tr>\n",
       "      <th>0</th>\n",
       "      <td>Jehu Rudeforth</td>\n",
       "      <td>UK</td>\n",
       "      <td>Mint Chip Choco</td>\n",
       "      <td>04-Jan-22</td>\n",
       "      <td>$5,320</td>\n",
       "      <td>180</td>\n",
       "    </tr>\n",
       "    <tr>\n",
       "      <th>1</th>\n",
       "      <td>Van Tuxwell</td>\n",
       "      <td>India</td>\n",
       "      <td>85% Dark Bars</td>\n",
       "      <td>01-Aug-22</td>\n",
       "      <td>$7,896</td>\n",
       "      <td>94</td>\n",
       "    </tr>\n",
       "    <tr>\n",
       "      <th>2</th>\n",
       "      <td>Gigi Bohling</td>\n",
       "      <td>India</td>\n",
       "      <td>Peanut Butter Cubes</td>\n",
       "      <td>07-Jul-22</td>\n",
       "      <td>$4,501</td>\n",
       "      <td>91</td>\n",
       "    </tr>\n",
       "    <tr>\n",
       "      <th>3</th>\n",
       "      <td>Jan Morforth</td>\n",
       "      <td>Australia</td>\n",
       "      <td>Peanut Butter Cubes</td>\n",
       "      <td>27-Apr-22</td>\n",
       "      <td>$12,726</td>\n",
       "      <td>342</td>\n",
       "    </tr>\n",
       "    <tr>\n",
       "      <th>4</th>\n",
       "      <td>Jehu Rudeforth</td>\n",
       "      <td>UK</td>\n",
       "      <td>Peanut Butter Cubes</td>\n",
       "      <td>24-Feb-22</td>\n",
       "      <td>$13,685</td>\n",
       "      <td>184</td>\n",
       "    </tr>\n",
       "  </tbody>\n",
       "</table>\n",
       "</div>"
      ],
      "text/plain": [
       "     Sales Person    Country              Product       Date    Amount  \\\n",
       "0  Jehu Rudeforth         UK      Mint Chip Choco  04-Jan-22   $5,320    \n",
       "1     Van Tuxwell      India        85% Dark Bars  01-Aug-22   $7,896    \n",
       "2    Gigi Bohling      India  Peanut Butter Cubes  07-Jul-22   $4,501    \n",
       "3    Jan Morforth  Australia  Peanut Butter Cubes  27-Apr-22  $12,726    \n",
       "4  Jehu Rudeforth         UK  Peanut Butter Cubes  24-Feb-22  $13,685    \n",
       "\n",
       "   Boxes Shipped  \n",
       "0            180  \n",
       "1             94  \n",
       "2             91  \n",
       "3            342  \n",
       "4            184  "
      ]
     },
     "execution_count": 1,
     "metadata": {},
     "output_type": "execute_result"
    }
   ],
   "source": [
    "import pandas as pd\n",
    "csv_path = 'Chocolate Sales.csv'\n",
    "# use read.csv function to read the file\n",
    "df = pd.read_csv(csv_path) #for xlsx file replace read_csv with read_excel\n",
    "df.head()\n"
   ]
  },
  {
   "cell_type": "code",
   "execution_count": null,
   "id": "829fcce1-086b-42e4-bd1f-a7884bdd06f4",
   "metadata": {},
   "outputs": [],
   "source": []
  },
  {
   "cell_type": "code",
   "execution_count": 4,
   "id": "d2c7f0c1-a9ae-425f-a56a-1b40f64ec2aa",
   "metadata": {},
   "outputs": [
    {
     "data": {
      "text/html": [
       "<div>\n",
       "<style scoped>\n",
       "    .dataframe tbody tr th:only-of-type {\n",
       "        vertical-align: middle;\n",
       "    }\n",
       "\n",
       "    .dataframe tbody tr th {\n",
       "        vertical-align: top;\n",
       "    }\n",
       "\n",
       "    .dataframe thead th {\n",
       "        text-align: right;\n",
       "    }\n",
       "</style>\n",
       "<table border=\"1\" class=\"dataframe\">\n",
       "  <thead>\n",
       "    <tr style=\"text-align: right;\">\n",
       "      <th></th>\n",
       "      <th>Boxes Shipped</th>\n",
       "    </tr>\n",
       "  </thead>\n",
       "  <tbody>\n",
       "    <tr>\n",
       "      <th>count</th>\n",
       "      <td>1094.000000</td>\n",
       "    </tr>\n",
       "    <tr>\n",
       "      <th>mean</th>\n",
       "      <td>161.797989</td>\n",
       "    </tr>\n",
       "    <tr>\n",
       "      <th>std</th>\n",
       "      <td>121.544145</td>\n",
       "    </tr>\n",
       "    <tr>\n",
       "      <th>min</th>\n",
       "      <td>1.000000</td>\n",
       "    </tr>\n",
       "    <tr>\n",
       "      <th>25%</th>\n",
       "      <td>70.000000</td>\n",
       "    </tr>\n",
       "    <tr>\n",
       "      <th>50%</th>\n",
       "      <td>135.000000</td>\n",
       "    </tr>\n",
       "    <tr>\n",
       "      <th>75%</th>\n",
       "      <td>228.750000</td>\n",
       "    </tr>\n",
       "    <tr>\n",
       "      <th>max</th>\n",
       "      <td>709.000000</td>\n",
       "    </tr>\n",
       "  </tbody>\n",
       "</table>\n",
       "</div>"
      ],
      "text/plain": [
       "       Boxes Shipped\n",
       "count    1094.000000\n",
       "mean      161.797989\n",
       "std       121.544145\n",
       "min         1.000000\n",
       "25%        70.000000\n",
       "50%       135.000000\n",
       "75%       228.750000\n",
       "max       709.000000"
      ]
     },
     "execution_count": 4,
     "metadata": {},
     "output_type": "execute_result"
    }
   ],
   "source": [
    "df.describe()"
   ]
  },
  {
   "cell_type": "code",
   "execution_count": 6,
   "id": "4896cb51-3065-4c99-9643-6736e6da9a13",
   "metadata": {},
   "outputs": [
    {
     "name": "stdout",
     "output_type": "stream",
     "text": [
      "<class 'pandas.core.frame.DataFrame'>\n",
      "RangeIndex: 1094 entries, 0 to 1093\n",
      "Data columns (total 6 columns):\n",
      " #   Column         Non-Null Count  Dtype \n",
      "---  ------         --------------  ----- \n",
      " 0   Sales Person   1094 non-null   object\n",
      " 1   Country        1094 non-null   object\n",
      " 2   Product        1094 non-null   object\n",
      " 3   Date           1094 non-null   object\n",
      " 4   Amount         1094 non-null   object\n",
      " 5   Boxes Shipped  1094 non-null   int64 \n",
      "dtypes: int64(1), object(5)\n",
      "memory usage: 51.4+ KB\n"
     ]
    }
   ],
   "source": [
    "df.info()"
   ]
  },
  {
   "cell_type": "code",
   "execution_count": 35,
   "id": "550c6615-ff84-4bcb-bb56-f990a5c89192",
   "metadata": {},
   "outputs": [
    {
     "name": "stdout",
     "output_type": "stream",
     "text": [
      "Jehu Rudeforth\n",
      "Van Tuxwell\n",
      "UK\n",
      "Australia\n",
      "    Amount  Boxes Shipped\n",
      "0  $5,320             180\n",
      "1  $7,896              94\n",
      "    Amount  Boxes Shipped\n",
      "0  $5,320             180\n",
      "1  $7,896              94\n",
      "2  $4,501              91\n"
     ]
    }
   ],
   "source": [
    "#iloc method: way to access unique elements\n",
    "print(df.iloc[0,0])    #first 0 represents rows and the second 0 indicates columns\n",
    "print(df.iloc[1,0])\n",
    "print(df.iloc[0,1])\n",
    "\n",
    "#can specify column name like using 'loc[]' function\n",
    "print(df.loc[3,'Country'])\n",
    "\n",
    "\n",
    "z = df.iloc[0:2,4:6]\n",
    "print(z)\n",
    "\n",
    "y = df.loc[0:2,'Amount':'Boxes Shipped']\n",
    "print(y)"
   ]
  },
  {
   "cell_type": "code",
   "execution_count": 31,
   "id": "f1ba135b-b9bb-4b15-8b90-1b7757229ee6",
   "metadata": {},
   "outputs": [
    {
     "name": "stdout",
     "output_type": "stream",
     "text": [
      "Sales Person\n",
      "Van Tuxwell           85% Dark Bars\n",
      "Van Tuxwell      Smooth Sliky Salty\n",
      "Van Tuxwell     Organic Choco Syrup\n",
      "Van Tuxwell           85% Dark Bars\n",
      "Van Tuxwell          50% Dark Bites\n",
      "Van Tuxwell     Organic Choco Syrup\n",
      "Van Tuxwell     Organic Choco Syrup\n",
      "Van Tuxwell         99% Dark & Pure\n",
      "Van Tuxwell             After Nines\n",
      "Van Tuxwell               Milk Bars\n",
      "Van Tuxwell     Organic Choco Syrup\n",
      "Van Tuxwell     Baker's Choco Chips\n",
      "Van Tuxwell         99% Dark & Pure\n",
      "Van Tuxwell            Almond Choco\n",
      "Van Tuxwell      Smooth Sliky Salty\n",
      "Van Tuxwell         Raspberry Choco\n",
      "Van Tuxwell               Milk Bars\n",
      "Van Tuxwell              White Choc\n",
      "Van Tuxwell    Caramel Stuffed Bars\n",
      "Van Tuxwell           Drinking Coco\n",
      "Van Tuxwell    Caramel Stuffed Bars\n",
      "Van Tuxwell      Manuka Honey Choco\n",
      "Van Tuxwell           85% Dark Bars\n",
      "Van Tuxwell     Spicy Special Slims\n",
      "Van Tuxwell         Mint Chip Choco\n",
      "Van Tuxwell          50% Dark Bites\n",
      "Van Tuxwell      Manuka Honey Choco\n",
      "Van Tuxwell    Choco Coated Almonds\n",
      "Van Tuxwell            Almond Choco\n",
      "Van Tuxwell        Fruit & Nut Bars\n",
      "Van Tuxwell        Fruit & Nut Bars\n",
      "Van Tuxwell         Raspberry Choco\n",
      "Van Tuxwell              White Choc\n",
      "Van Tuxwell         99% Dark & Pure\n",
      "Van Tuxwell     Peanut Butter Cubes\n",
      "Van Tuxwell     Baker's Choco Chips\n",
      "Van Tuxwell          50% Dark Bites\n",
      "Van Tuxwell          50% Dark Bites\n",
      "Van Tuxwell    Choco Coated Almonds\n",
      "Van Tuxwell                 Eclairs\n",
      "Van Tuxwell                 Eclairs\n",
      "Van Tuxwell     Baker's Choco Chips\n",
      "Van Tuxwell     Baker's Choco Chips\n",
      "Van Tuxwell          70% Dark Bites\n",
      "Van Tuxwell          50% Dark Bites\n",
      "Van Tuxwell             After Nines\n",
      "Van Tuxwell            Almond Choco\n",
      "Van Tuxwell           Drinking Coco\n",
      "Van Tuxwell          70% Dark Bites\n",
      "Van Tuxwell                 Eclairs\n",
      "Van Tuxwell         Mint Chip Choco\n",
      "Name: Product, dtype: object\n"
     ]
    }
   ],
   "source": [
    "#setting sales person as an index to use in loc function\n",
    "df5=df\n",
    "df5 =df5.set_index(\"Sales Person\")\n",
    "print(df5.loc['Van Tuxwell','Product'])"
   ]
  },
  {
   "cell_type": "code",
   "execution_count": 76,
   "id": "272c2d2e-9416-4a52-b413-62383b2755b3",
   "metadata": {},
   "outputs": [
    {
     "name": "stdout",
     "output_type": "stream",
     "text": [
      "   Released\n",
      "0      1934\n",
      "1      1937\n",
      "2      1976\n",
      "                Title  Released\n",
      "0       Maan ka jhwab      1934\n",
      "1  lab pe ati hai dua      1937\n",
      "2    barsaat ka mosam      1976\n",
      "Maan ka jhwab\n"
     ]
    }
   ],
   "source": [
    "#Making dataframe out of a dictionary\n",
    "poems = {'Title':['Maan ka jhwab', 'lab pe ati hai dua','barsaat ka mosam'],\n",
    "         'Released':[1934, 1937, 1976]}   # keys correspond to table headers.\n",
    "                                         #values are lists corresponding to the rows\n",
    "poem_Frames = pd.DataFrame(poems)\n",
    "x = poem_Frames[['Released']]\n",
    "print(x)\n",
    "y = poem_Frames[['Title','Released']]\n",
    "print(y)\n",
    "\n",
    "#loc can also be used if index is not integer\n",
    "pf_new = poem_Frames\n",
    "pf_new.index = ['a','b','c']\n",
    "print(pf_new.loc['a','Title'])"
   ]
  },
  {
   "cell_type": "markdown",
   "id": "32b2b2f4-8496-443d-9ddb-a0b5a30935fa",
   "metadata": {},
   "source": [
    "<h3>Pandas: Working with and Saving data</h3>"
   ]
  },
  {
   "cell_type": "code",
   "execution_count": 86,
   "id": "7e8d901c-e6a3-4f73-8f8c-8e6c3dfac319",
   "metadata": {},
   "outputs": [
    {
     "data": {
      "text/plain": [
       "array(['UK', 'India', 'Australia', 'New Zealand', 'USA', 'Canada'],\n",
       "      dtype=object)"
      ]
     },
     "execution_count": 86,
     "metadata": {},
     "output_type": "execute_result"
    }
   ],
   "source": [
    "#findng unique values in dataframe\n",
    "df['Country'].unique()"
   ]
  },
  {
   "cell_type": "code",
   "execution_count": 94,
   "id": "46ce4347-c456-4336-8eab-fe62723e9750",
   "metadata": {},
   "outputs": [
    {
     "name": "stdout",
     "output_type": "stream",
     "text": [
      "          Sales Person    Country              Product       Date    Amount  \\\n",
      "0       Jehu Rudeforth         UK      Mint Chip Choco  04-Jan-22   $5,320    \n",
      "3         Jan Morforth  Australia  Peanut Butter Cubes  27-Apr-22  $12,726    \n",
      "4       Jehu Rudeforth         UK  Peanut Butter Cubes  24-Feb-22  $13,685    \n",
      "6           Oby Sorrel         UK      99% Dark & Pure  25-Jan-22  $13,685    \n",
      "9          Brien Boise  Australia      99% Dark & Pure  04-Jul-22   $2,835    \n",
      "...                ...        ...                  ...        ...       ...   \n",
      "1089  Karlen McCaffrey  Australia  Spicy Special Slims  17-May-22   $4,410    \n",
      "1090    Jehu Rudeforth        USA           White Choc  07-Jun-22   $6,559    \n",
      "1091      Ches Bonnell     Canada  Organic Choco Syrup  26-Jul-22     $574    \n",
      "1092    Dotty Strutley      India              Eclairs  28-Jul-22   $2,086    \n",
      "1093  Karlen McCaffrey      India       70% Dark Bites  23-May-22   $5,075    \n",
      "\n",
      "      Boxes Shipped  \n",
      "0               180  \n",
      "3               342  \n",
      "4               184  \n",
      "6               176  \n",
      "9               102  \n",
      "...             ...  \n",
      "1089            323  \n",
      "1090            119  \n",
      "1091            217  \n",
      "1092            384  \n",
      "1093            344  \n",
      "\n",
      "[685 rows x 6 columns]\n"
     ]
    }
   ],
   "source": [
    "# showing values from chocolate sales with boxes shipped>100\n",
    "# df['Boxes Shipped']>100  will give true/false in output\n",
    "\n",
    "df1=df[df['Boxes Shipped']>100]\n",
    "print(df1)"
   ]
  },
  {
   "cell_type": "code",
   "execution_count": 96,
   "id": "bda8c786-6005-4d53-901d-ed19a83fd34c",
   "metadata": {},
   "outputs": [],
   "source": [
    "#Save the new dataFrame as CSV\n",
    "df1.to_csv('High chocolate shipping.csv')"
   ]
  },
  {
   "cell_type": "code",
   "execution_count": 100,
   "id": "202fff84-88f3-462a-bf47-a52243319140",
   "metadata": {},
   "outputs": [
    {
     "data": {
      "text/plain": [
       "0         Jehu Rudeforth\n",
       "1            Van Tuxwell\n",
       "2           Gigi Bohling\n",
       "3           Jan Morforth\n",
       "4         Jehu Rudeforth\n",
       "              ...       \n",
       "1089    Karlen McCaffrey\n",
       "1090      Jehu Rudeforth\n",
       "1091        Ches Bonnell\n",
       "1092      Dotty Strutley\n",
       "1093    Karlen McCaffrey\n",
       "Name: Sales Person, Length: 1094, dtype: object"
      ]
     },
     "execution_count": 100,
     "metadata": {},
     "output_type": "execute_result"
    }
   ],
   "source": [
    "df['Sales Person']   #to access single column"
   ]
  },
  {
   "cell_type": "code",
   "execution_count": 13,
   "id": "64ecadcb-0eda-4937-89df-39e2405b2b07",
   "metadata": {},
   "outputs": [
    {
     "ename": "KeyError",
     "evalue": "'GDP (Million USD)'",
     "output_type": "error",
     "traceback": [
      "\u001b[1;31m---------------------------------------------------------------------------\u001b[0m",
      "\u001b[1;31mKeyError\u001b[0m                                  Traceback (most recent call last)",
      "File \u001b[1;32m~\\anaconda3\\Lib\\site-packages\\pandas\\core\\indexes\\base.py:3805\u001b[0m, in \u001b[0;36mIndex.get_loc\u001b[1;34m(self, key)\u001b[0m\n\u001b[0;32m   3804\u001b[0m \u001b[38;5;28;01mtry\u001b[39;00m:\n\u001b[1;32m-> 3805\u001b[0m     \u001b[38;5;28;01mreturn\u001b[39;00m \u001b[38;5;28mself\u001b[39m\u001b[38;5;241m.\u001b[39m_engine\u001b[38;5;241m.\u001b[39mget_loc(casted_key)\n\u001b[0;32m   3806\u001b[0m \u001b[38;5;28;01mexcept\u001b[39;00m \u001b[38;5;167;01mKeyError\u001b[39;00m \u001b[38;5;28;01mas\u001b[39;00m err:\n",
      "File \u001b[1;32mindex.pyx:167\u001b[0m, in \u001b[0;36mpandas._libs.index.IndexEngine.get_loc\u001b[1;34m()\u001b[0m\n",
      "File \u001b[1;32mindex.pyx:196\u001b[0m, in \u001b[0;36mpandas._libs.index.IndexEngine.get_loc\u001b[1;34m()\u001b[0m\n",
      "File \u001b[1;32mpandas\\\\_libs\\\\hashtable_class_helper.pxi:7081\u001b[0m, in \u001b[0;36mpandas._libs.hashtable.PyObjectHashTable.get_item\u001b[1;34m()\u001b[0m\n",
      "File \u001b[1;32mpandas\\\\_libs\\\\hashtable_class_helper.pxi:7089\u001b[0m, in \u001b[0;36mpandas._libs.hashtable.PyObjectHashTable.get_item\u001b[1;34m()\u001b[0m\n",
      "\u001b[1;31mKeyError\u001b[0m: 'GDP (Million USD)'",
      "\nThe above exception was the direct cause of the following exception:\n",
      "\u001b[1;31mKeyError\u001b[0m                                  Traceback (most recent call last)",
      "Cell \u001b[1;32mIn[13], line 2\u001b[0m\n\u001b[0;32m      1\u001b[0m \u001b[38;5;66;03m# Change the data type of the 'GDP (Million USD)' column to integer. Use astype() method.\u001b[39;00m\n\u001b[1;32m----> 2\u001b[0m df[\u001b[38;5;124m'\u001b[39m\u001b[38;5;124mGDP (Million USD)\u001b[39m\u001b[38;5;124m'\u001b[39m] \u001b[38;5;241m=\u001b[39m df[\u001b[38;5;124m'\u001b[39m\u001b[38;5;124mGDP (Million USD)\u001b[39m\u001b[38;5;124m'\u001b[39m]\u001b[38;5;241m.\u001b[39mastype(\u001b[38;5;28mint\u001b[39m)\n\u001b[0;32m      4\u001b[0m \u001b[38;5;66;03m# Convert the GDP value in Million USD to Billion USD\u001b[39;00m\n\u001b[0;32m      5\u001b[0m df[[\u001b[38;5;124m'\u001b[39m\u001b[38;5;124mGDP (Million USD)\u001b[39m\u001b[38;5;124m'\u001b[39m]] \u001b[38;5;241m=\u001b[39m df[[\u001b[38;5;124m'\u001b[39m\u001b[38;5;124mGDP (Million USD)\u001b[39m\u001b[38;5;124m'\u001b[39m]]\u001b[38;5;241m/\u001b[39m\u001b[38;5;241m1000\u001b[39m\n",
      "File \u001b[1;32m~\\anaconda3\\Lib\\site-packages\\pandas\\core\\frame.py:4102\u001b[0m, in \u001b[0;36mDataFrame.__getitem__\u001b[1;34m(self, key)\u001b[0m\n\u001b[0;32m   4100\u001b[0m \u001b[38;5;28;01mif\u001b[39;00m \u001b[38;5;28mself\u001b[39m\u001b[38;5;241m.\u001b[39mcolumns\u001b[38;5;241m.\u001b[39mnlevels \u001b[38;5;241m>\u001b[39m \u001b[38;5;241m1\u001b[39m:\n\u001b[0;32m   4101\u001b[0m     \u001b[38;5;28;01mreturn\u001b[39;00m \u001b[38;5;28mself\u001b[39m\u001b[38;5;241m.\u001b[39m_getitem_multilevel(key)\n\u001b[1;32m-> 4102\u001b[0m indexer \u001b[38;5;241m=\u001b[39m \u001b[38;5;28mself\u001b[39m\u001b[38;5;241m.\u001b[39mcolumns\u001b[38;5;241m.\u001b[39mget_loc(key)\n\u001b[0;32m   4103\u001b[0m \u001b[38;5;28;01mif\u001b[39;00m is_integer(indexer):\n\u001b[0;32m   4104\u001b[0m     indexer \u001b[38;5;241m=\u001b[39m [indexer]\n",
      "File \u001b[1;32m~\\anaconda3\\Lib\\site-packages\\pandas\\core\\indexes\\base.py:3812\u001b[0m, in \u001b[0;36mIndex.get_loc\u001b[1;34m(self, key)\u001b[0m\n\u001b[0;32m   3807\u001b[0m     \u001b[38;5;28;01mif\u001b[39;00m \u001b[38;5;28misinstance\u001b[39m(casted_key, \u001b[38;5;28mslice\u001b[39m) \u001b[38;5;129;01mor\u001b[39;00m (\n\u001b[0;32m   3808\u001b[0m         \u001b[38;5;28misinstance\u001b[39m(casted_key, abc\u001b[38;5;241m.\u001b[39mIterable)\n\u001b[0;32m   3809\u001b[0m         \u001b[38;5;129;01mand\u001b[39;00m \u001b[38;5;28many\u001b[39m(\u001b[38;5;28misinstance\u001b[39m(x, \u001b[38;5;28mslice\u001b[39m) \u001b[38;5;28;01mfor\u001b[39;00m x \u001b[38;5;129;01min\u001b[39;00m casted_key)\n\u001b[0;32m   3810\u001b[0m     ):\n\u001b[0;32m   3811\u001b[0m         \u001b[38;5;28;01mraise\u001b[39;00m InvalidIndexError(key)\n\u001b[1;32m-> 3812\u001b[0m     \u001b[38;5;28;01mraise\u001b[39;00m \u001b[38;5;167;01mKeyError\u001b[39;00m(key) \u001b[38;5;28;01mfrom\u001b[39;00m \u001b[38;5;21;01merr\u001b[39;00m\n\u001b[0;32m   3813\u001b[0m \u001b[38;5;28;01mexcept\u001b[39;00m \u001b[38;5;167;01mTypeError\u001b[39;00m:\n\u001b[0;32m   3814\u001b[0m     \u001b[38;5;66;03m# If we have a listlike key, _check_indexing_error will raise\u001b[39;00m\n\u001b[0;32m   3815\u001b[0m     \u001b[38;5;66;03m#  InvalidIndexError. Otherwise we fall through and re-raise\u001b[39;00m\n\u001b[0;32m   3816\u001b[0m     \u001b[38;5;66;03m#  the TypeError.\u001b[39;00m\n\u001b[0;32m   3817\u001b[0m     \u001b[38;5;28mself\u001b[39m\u001b[38;5;241m.\u001b[39m_check_indexing_error(key)\n",
      "\u001b[1;31mKeyError\u001b[0m: 'GDP (Million USD)'"
     ]
    }
   ],
   "source": [
    "# Change the data type of the 'GDP (Million USD)' column to integer. Use astype() method.\n",
    "df['GDP (Million USD)'] = df['GDP (Million USD)'].astype(int)\n",
    "\n",
    "# Convert the GDP value in Million USD to Billion USD\n",
    "df[['GDP (Million USD)']] = df[['GDP (Million USD)']]/1000\n",
    "\n",
    "# Use numpy.round() method to round the value to 2 decimal places.\n",
    "df[['GDP (Million USD)']] = np.round(df[['GDP (Million USD)']], 2)\n",
    "\n",
    "# Rename the column header from 'GDP (Million USD)' to 'GDP (Billion USD)'\n",
    "df.rename(columns = {'GDP (Million USD)' : 'GDP (Billion USD)'})"
   ]
  },
  {
   "cell_type": "code",
   "execution_count": null,
   "id": "6fe052ce-ae4e-433b-8a5c-2ca7aa540d48",
   "metadata": {},
   "outputs": [],
   "source": []
  }
 ],
 "metadata": {
  "kernelspec": {
   "display_name": "Python [conda env:base] *",
   "language": "python",
   "name": "conda-base-py"
  },
  "language_info": {
   "codemirror_mode": {
    "name": "ipython",
    "version": 3
   },
   "file_extension": ".py",
   "mimetype": "text/x-python",
   "name": "python",
   "nbconvert_exporter": "python",
   "pygments_lexer": "ipython3",
   "version": "3.12.7"
  }
 },
 "nbformat": 4,
 "nbformat_minor": 5
}
