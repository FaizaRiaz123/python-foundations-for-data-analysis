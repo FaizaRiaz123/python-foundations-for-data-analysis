{
 "cells": [
  {
   "cell_type": "markdown",
   "id": "bc25150a-3760-471b-89d6-c6587542c1bb",
   "metadata": {},
   "source": [
    "<h3>Conditions and branching</h3>"
   ]
  },
  {
   "cell_type": "code",
   "execution_count": 4,
   "id": "c9e93fc5-0ede-4b71-8d91-49c5e57001d2",
   "metadata": {},
   "outputs": [
    {
     "name": "stdout",
     "output_type": "stream",
     "text": [
      "pass\n"
     ]
    }
   ],
   "source": [
    "marks = 90\n",
    "if marks >=50:\n",
    "    print('pass')\n",
    "else:\n",
    "    print('unsatisfactory')"
   ]
  },
  {
   "cell_type": "code",
   "execution_count": 18,
   "id": "8d0af1c2-a546-4341-bcd9-575357841a99",
   "metadata": {},
   "outputs": [
    {
     "name": "stdout",
     "output_type": "stream",
     "text": [
      "positive\n"
     ]
    }
   ],
   "source": [
    "n = 9\n",
    "if n>0:\n",
    "    print(\"positive\")\n",
    "elif n==0:\n",
    "    print(\"zero\")\n",
    "else:\n",
    "    print(\"negative\")"
   ]
  },
  {
   "cell_type": "code",
   "execution_count": 24,
   "id": "5c17b300-e39f-482c-8999-b60c06394347",
   "metadata": {},
   "outputs": [
    {
     "name": "stdout",
     "output_type": "stream",
     "text": [
      "not zero\n"
     ]
    }
   ],
   "source": [
    "m=9\n",
    "if m>0 or m<0:\n",
    "    print(\"not zero\")\n",
    "else:\n",
    "    print(\"zero\")"
   ]
  },
  {
   "cell_type": "code",
   "execution_count": 34,
   "id": "16ac4b67-b7ef-471f-ae12-01b8bf11809e",
   "metadata": {},
   "outputs": [
    {
     "data": {
      "text/plain": [
       "False"
      ]
     },
     "execution_count": 34,
     "metadata": {},
     "output_type": "execute_result"
    }
   ],
   "source": [
    "not(True) #T of true must be capital"
   ]
  },
  {
   "cell_type": "code",
   "execution_count": 38,
   "id": "b43d44f4-0162-4852-a344-bc10bb621a86",
   "metadata": {},
   "outputs": [
    {
     "data": {
      "text/plain": [
       "False"
      ]
     },
     "execution_count": 38,
     "metadata": {},
     "output_type": "execute_result"
    }
   ],
   "source": [
    "'A'>'B'  #compares ASCII of both"
   ]
  },
  {
   "cell_type": "markdown",
   "id": "1deb65e9-c512-4384-85c2-1c89145e29de",
   "metadata": {},
   "source": [
    "<h3>Loops</h3>"
   ]
  },
  {
   "cell_type": "code",
   "execution_count": 2,
   "id": "0deae918-d9d8-47f0-bb43-44d69161f64a",
   "metadata": {},
   "outputs": [
    {
     "data": {
      "text/plain": [
       "range(0, 8)"
      ]
     },
     "execution_count": 2,
     "metadata": {},
     "output_type": "execute_result"
    }
   ],
   "source": [
    "#range function\n",
    "range(8)  #need to use loops to convert into list of integers from 0 to 7"
   ]
  },
  {
   "cell_type": "code",
   "execution_count": 6,
   "id": "1fbe71f3-b469-427a-b436-a2826f17f908",
   "metadata": {},
   "outputs": [
    {
     "name": "stdout",
     "output_type": "stream",
     "text": [
      "0\n",
      "1\n",
      "2\n",
      "3\n",
      "4\n",
      "5\n",
      "6\n",
      "7\n"
     ]
    }
   ],
   "source": [
    "for i in range(8):   #for loop\n",
    "    print(i)"
   ]
  },
  {
   "cell_type": "code",
   "execution_count": 8,
   "id": "f7bf0e77-f57b-47dd-9ef1-052580627050",
   "metadata": {},
   "outputs": [
    {
     "name": "stdout",
     "output_type": "stream",
     "text": [
      "4\n",
      "5\n",
      "6\n",
      "7\n"
     ]
    }
   ],
   "source": [
    "for i in range(4,8):\n",
    "    print(i)"
   ]
  },
  {
   "cell_type": "code",
   "execution_count": 12,
   "id": "c8079e45-0671-4f52-8160-0556b3521b2c",
   "metadata": {},
   "outputs": [
    {
     "name": "stdout",
     "output_type": "stream",
     "text": [
      "['white', 'white', 'white', 'white', 'white']\n"
     ]
    }
   ],
   "source": [
    "#loops in list\n",
    "squares = [\"red\",\"yellow\",\"green\",\"purple\",\"blue\"]\n",
    "for i in range(0,5):\n",
    "    squares[i]=\"white\"\n",
    "print(squares)"
   ]
  },
  {
   "cell_type": "code",
   "execution_count": 44,
   "id": "b0eb6c5a-d65d-4b28-b284-9400eb286676",
   "metadata": {},
   "outputs": [
    {
     "name": "stdout",
     "output_type": "stream",
     "text": [
      "hi\n",
      "bye\n"
     ]
    }
   ],
   "source": [
    "triangles = [\"hi\",\"bye\"]\n",
    "for triangle in triangles:\n",
    "    print(triangle) #triangle is a variable which stores one value of list on each iteration\n",
    "    "
   ]
  },
  {
   "cell_type": "code",
   "execution_count": 32,
   "id": "ce226e6a-6785-4784-a132-f5161c1bbef9",
   "metadata": {},
   "outputs": [
    {
     "name": "stdout",
     "output_type": "stream",
     "text": [
      "0 A\n",
      "1 B\n",
      "2 C\n"
     ]
    }
   ],
   "source": [
    "#enumerate used to keep track of both item and its position in the list\n",
    "for i,x in enumerate(['A','B','C']): # i stores index while x stores values\n",
    "    print(i,x)"
   ]
  },
  {
   "cell_type": "code",
   "execution_count": 52,
   "id": "e54278d4-165c-4932-95e8-1cfe1865c14c",
   "metadata": {},
   "outputs": [
    {
     "name": "stdout",
     "output_type": "stream",
     "text": [
      "at position 0, I found hi\n",
      "at position 1, I found bye\n"
     ]
    }
   ],
   "source": [
    "for j,triangle in enumerate(triangles):\n",
    "    print(f\"at position {j}, I found {triangle}\") #format string"
   ]
  },
  {
   "cell_type": "code",
   "execution_count": 64,
   "id": "a61d192d-d1ba-41c1-b885-8c62798eac7e",
   "metadata": {},
   "outputs": [
    {
     "name": "stdout",
     "output_type": "stream",
     "text": [
      "['blue', 'blue']\n"
     ]
    }
   ],
   "source": [
    "#while loop\n",
    "circle = [\"blue\",\"blue\",\"green\",\"orange\",\"blue\"]\n",
    "new_circle = []\n",
    "i=0\n",
    "while (circle[i]==\"blue\"):\n",
    "    new_circle.append(circle[i])\n",
    "    i=i+1\n",
    "print(new_circle)\n",
    "    "
   ]
  },
  {
   "cell_type": "code",
   "execution_count": 54,
   "id": "4125034f-da81-4bc2-b0ae-9baedd58de54",
   "metadata": {},
   "outputs": [
    {
     "name": "stdout",
     "output_type": "stream",
     "text": [
      "1\n",
      "2\n",
      "3\n",
      "4\n",
      "5\n",
      "6\n",
      "7\n",
      "8\n",
      "9\n",
      "10\n"
     ]
    }
   ],
   "source": [
    "count=1\n",
    "while count<=10:\n",
    "    print(count)\n",
    "    count= count+1"
   ]
  },
  {
   "cell_type": "code",
   "execution_count": 66,
   "id": "74bb2f43-9883-458b-a47a-93909aee8916",
   "metadata": {},
   "outputs": [
    {
     "name": "stdout",
     "output_type": "stream",
     "text": [
      "['orange', 'orange']\n"
     ]
    }
   ],
   "source": [
    "#while loop\n",
    "squares = ['orange', 'orange', 'purple', 'blue ', 'orange']\n",
    "new_squares = []\n",
    "i = 0\n",
    "while(i < len(squares) and squares[i] == 'orange'):\n",
    "    new_squares.append(squares[i])\n",
    "    i = i + 1\n",
    "print (new_squares)\n",
    "    "
   ]
  },
  {
   "cell_type": "markdown",
   "id": "0fbab6ef-0e42-460b-af6b-61a5b747147d",
   "metadata": {},
   "source": [
    "<h3>Functions</h3>"
   ]
  },
  {
   "cell_type": "code",
   "execution_count": 79,
   "id": "92f7324f-d514-4bb7-8b81-6b7a4c62b9be",
   "metadata": {},
   "outputs": [
    {
     "name": "stdout",
     "output_type": "stream",
     "text": [
      "[2, 5, 4, 3]\n",
      "[2, 3, 4, 5]\n",
      "[2, 3, 4, 5]\n"
     ]
    }
   ],
   "source": [
    "#sorted vs. sort\n",
    "list1=[2,5,4,3]\n",
    "new_list=sorted(list1)   #doesnt change original list\n",
    "print(list1)\n",
    "print(new_list)\n",
    "\n",
    "list1.sort()     #sorts original list\n",
    "print(list1)"
   ]
  },
  {
   "cell_type": "code",
   "execution_count": 101,
   "id": "6c7d5dd8-88c3-4b9a-85b5-a7049f061db3",
   "metadata": {},
   "outputs": [
    {
     "data": {
      "text/plain": [
       "5"
      ]
     },
     "execution_count": 101,
     "metadata": {},
     "output_type": "execute_result"
    }
   ],
   "source": [
    "#Making function\n",
    "def add1(a):\n",
    "    \"\"\" add 1 to a \"\"\"   #documentation string, shows what function does\n",
    "    b=a+1\n",
    "    return b\n",
    "add1(4)"
   ]
  },
  {
   "cell_type": "code",
   "execution_count": 99,
   "id": "ee483036-4b83-4f37-b534-0eeef9ce3304",
   "metadata": {},
   "outputs": [
    {
     "name": "stdout",
     "output_type": "stream",
     "text": [
      "Help on function add1 in module __main__:\n",
      "\n",
      "add1(a)\n",
      "    add 1 to a\n",
      "\n"
     ]
    }
   ],
   "source": [
    "help(add1)   # to show documentation string"
   ]
  },
  {
   "cell_type": "code",
   "execution_count": 117,
   "id": "95f9f3ce-9e12-4f5f-a828-5c874ca4ac7f",
   "metadata": {},
   "outputs": [
    {
     "name": "stdout",
     "output_type": "stream",
     "text": [
      "4 plus 1 equals 5\n",
      "5\n"
     ]
    }
   ],
   "source": [
    "def add1(a):\n",
    "    b=a+1\n",
    "    print(a,\"plus 1 equals\",b)\n",
    "    return b\n",
    "c = add1(4)\n",
    "print(c)"
   ]
  },
  {
   "cell_type": "code",
   "execution_count": 107,
   "id": "f73c8a23-658f-4071-9ec2-3ef2f1e9f14d",
   "metadata": {},
   "outputs": [
    {
     "data": {
      "text/plain": [
       "13.5"
      ]
     },
     "execution_count": 107,
     "metadata": {},
     "output_type": "execute_result"
    }
   ],
   "source": [
    "# multiplying integers and float functions\n",
    "def mul(a,b):\n",
    "    c=a*b\n",
    "    return c\n",
    "mul(3,4.5)"
   ]
  },
  {
   "cell_type": "code",
   "execution_count": 109,
   "id": "5a4ed783-f92e-4561-a20a-1bf8b148814e",
   "metadata": {},
   "outputs": [
    {
     "data": {
      "text/plain": [
       "'FaizaFaizaFaiza'"
      ]
     },
     "execution_count": 109,
     "metadata": {},
     "output_type": "execute_result"
    }
   ],
   "source": [
    "def mul(a,b):\n",
    "    c=a*b\n",
    "    return c\n",
    "mul(3,\"Faiza\")  #string multiplication"
   ]
  },
  {
   "cell_type": "code",
   "execution_count": 111,
   "id": "66d7e5fc-ff92-40cb-8d3b-cb9885b71471",
   "metadata": {},
   "outputs": [
    {
     "name": "stdout",
     "output_type": "stream",
     "text": [
      "Faiza Riaz\n"
     ]
    }
   ],
   "source": [
    "#funciton without return statement\n",
    "def FR():\n",
    "    print(\"Faiza Riaz\")\n",
    "FR()"
   ]
  },
  {
   "cell_type": "code",
   "execution_count": 113,
   "id": "8954f64c-d32b-47ee-99e2-7141b205cc43",
   "metadata": {},
   "outputs": [
    {
     "name": "stdout",
     "output_type": "stream",
     "text": [
      "None\n"
     ]
    }
   ],
   "source": [
    "#Functions with an empty body\n",
    "def nowork():\n",
    "    pass     #Pyhton doesnot allow empty functions so use \"pass\"\n",
    "print(nowork())"
   ]
  },
  {
   "cell_type": "code",
   "execution_count": 125,
   "id": "64d606ce-c8e1-4459-8cd0-f957a82ccc35",
   "metadata": {},
   "outputs": [
    {
     "name": "stdout",
     "output_type": "stream",
     "text": [
      "Album 0 rating is 7.8\n",
      "Album 1 rating is 9.0\n",
      "Album 2 rating is 4.9\n"
     ]
    }
   ],
   "source": [
    "#Using loops in Functions\n",
    "def print_Stuff(Stuff):\n",
    "    for i,r in enumerate(Stuff):\n",
    "        print(\"Album\",i,\"rating is\", r)\n",
    "ratings = [7.8, 9.0, 4.9]\n",
    "print_Stuff(ratings)"
   ]
  },
  {
   "cell_type": "code",
   "execution_count": 135,
   "id": "a5f9de9b-9740-4e8c-abf7-9a21c97e8b02",
   "metadata": {},
   "outputs": [
    {
     "name": "stdout",
     "output_type": "stream",
     "text": [
      "Sadaf\n",
      "sara\n",
      "ali\n"
     ]
    }
   ],
   "source": [
    "def artist_name(*names):\n",
    "    for name in names:\n",
    "        print(name)\n",
    "artist_name(\"Sadaf\", \"sara\",\"ali\")"
   ]
  },
  {
   "cell_type": "code",
   "execution_count": 143,
   "id": "f1134305-1e18-48bb-add3-a9a608bcf761",
   "metadata": {},
   "outputs": [
    {
     "ename": "NameError",
     "evalue": "name 'sale' is not defined",
     "output_type": "error",
     "traceback": [
      "\u001b[1;31m---------------------------------------------------------------------------\u001b[0m",
      "\u001b[1;31mNameError\u001b[0m                                 Traceback (most recent call last)",
      "Cell \u001b[1;32mIn[143], line 5\u001b[0m\n\u001b[0;32m      3\u001b[0m     \u001b[38;5;28;01mreturn\u001b[39;00m sale\n\u001b[0;32m      4\u001b[0m Rate(\u001b[38;5;241m4\u001b[39m)\n\u001b[1;32m----> 5\u001b[0m \u001b[38;5;28mprint\u001b[39m(sale)\n",
      "\u001b[1;31mNameError\u001b[0m: name 'sale' is not defined"
     ]
    }
   ],
   "source": [
    "#Local and global variables\n",
    "def Rate(x):\n",
    "    sale= 40\n",
    "    return sale\n",
    "Rate(4)\n",
    "print(sale)    #gives error because sales is a local variable and cant be used globally."
   ]
  },
  {
   "cell_type": "code",
   "execution_count": 147,
   "id": "305866a3-894e-457f-a48c-fe5e425830b3",
   "metadata": {},
   "outputs": [
    {
     "name": "stdout",
     "output_type": "stream",
     "text": [
      "40\n"
     ]
    }
   ],
   "source": [
    "def Rate(x):\n",
    "    global sale    #global keyword to make 'sale' global variabel\n",
    "    sale = 40\n",
    "    return sale\n",
    "Rate(4)\n",
    "print(sale)"
   ]
  },
  {
   "cell_type": "code",
   "execution_count": 155,
   "id": "11899a89-ae7f-441f-aa41-38503332dc97",
   "metadata": {},
   "outputs": [
    {
     "name": "stdout",
     "output_type": "stream",
     "text": [
      "1987\n",
      "2009\n"
     ]
    }
   ],
   "source": [
    "def thrill():\n",
    "    date=1987   #local variable\n",
    "    return date\n",
    "date = 2009    #global variable\n",
    "print(thrill())\n",
    "print(date)"
   ]
  },
  {
   "cell_type": "code",
   "execution_count": 5,
   "id": "734b14ce-b69f-4887-9e43-97669d9894e5",
   "metadata": {},
   "outputs": [
    {
     "name": "stdout",
     "output_type": "stream",
     "text": [
      "4\n"
     ]
    }
   ],
   "source": [
    "#function to count no. of 'little' in the given string using list\n",
    "def total_count(string):\n",
    "    words = []\n",
    "    words = string.split()   #to convert string into list\n",
    "    count=0\n",
    "    for word in words:\n",
    "        if word.lower() ==\"little\":\n",
    "            count = count+1\n",
    "    print(count)\n",
    "\n",
    "str = \"Mary had a little lamb Little lamb, little lamb Mary had a little lamb.Its fleece was white as snow And everywhere that Mary went Mary went, Mary went Everywhere that Mary went The lamb was sure to go\"\n",
    "total_count(str)"
   ]
  },
  {
   "cell_type": "code",
   "execution_count": 7,
   "id": "545f09bf-db78-406a-bf15-accd8f45d2e1",
   "metadata": {},
   "outputs": [
    {
     "name": "stdout",
     "output_type": "stream",
     "text": [
      "Total Count: {'little': 3}\n"
     ]
    }
   ],
   "source": [
    "# Python Program to Count words in a String using Dictionary\n",
    "def freq(string,passedkey):\n",
    "\n",
    "    #step1: A list variable is declared and initialized to an empty list.\n",
    "    words = []\n",
    "\n",
    "    #step2: Break the string into list of words\n",
    "    words = string.split() # or string.lower().split()\n",
    "\n",
    "    #step3: Declare a dictionary\n",
    "    Dict = {}\n",
    "\n",
    "    #step4: Use for loop to iterate words and values to the dictionary\n",
    "    for key in words:\n",
    "        if(key == passedkey):\n",
    "            Dict[key] = words.count(key)   # key has the word 'little' and count counts the no. of times \"little\" appears in the list, words.\n",
    "    #step5: Print the dictionary\n",
    "    print(\"Total Count:\",Dict)\n",
    "\n",
    "#step6: Call function and pass string in it\n",
    "freq(\"Mary had a little lamb Little lamb, little lamb Mary had a little lamb.Its fleece was white as snow And everywhere that Mary went Mary went, Mary went \\\n",
    "Everywhere that Mary went The lamb was sure to go\",\"little\")\n"
   ]
  },
  {
   "cell_type": "code",
   "execution_count": 15,
   "id": "3da169d7-44c4-4dac-8545-2f0136c89d8e",
   "metadata": {},
   "outputs": [
    {
     "data": {
      "text/plain": [
       "2"
      ]
     },
     "execution_count": 15,
     "metadata": {},
     "output_type": "execute_result"
    }
   ],
   "source": [
    "new_list=[3, \"aaiza\", 5,9,5]\n",
    "new_list.count(5) #counts the no.of times an element appears in the list"
   ]
  },
  {
   "cell_type": "markdown",
   "id": "702247c3-0873-420a-95b6-82f87e7dc811",
   "metadata": {},
   "source": [
    "<h3>Exception Handling</h3>"
   ]
  },
  {
   "cell_type": "code",
   "execution_count": 18,
   "id": "58ba6a19-1e8f-4a1e-9e22-7841f9487eaa",
   "metadata": {},
   "outputs": [
    {
     "ename": "ZeroDivisionError",
     "evalue": "division by zero",
     "output_type": "error",
     "traceback": [
      "\u001b[1;31m---------------------------------------------------------------------------\u001b[0m",
      "\u001b[1;31mZeroDivisionError\u001b[0m                         Traceback (most recent call last)",
      "Cell \u001b[1;32mIn[18], line 1\u001b[0m\n\u001b[1;32m----> 1\u001b[0m result \u001b[38;5;241m=\u001b[39m \u001b[38;5;241m10\u001b[39m\u001b[38;5;241m/\u001b[39m\u001b[38;5;241m0\u001b[39m\n\u001b[0;32m      2\u001b[0m \u001b[38;5;28mprint\u001b[39m(result)\n",
      "\u001b[1;31mZeroDivisionError\u001b[0m: division by zero"
     ]
    }
   ],
   "source": [
    "result = 10/0\n",
    "print(result)"
   ]
  },
  {
   "cell_type": "code",
   "execution_count": 20,
   "id": "b2e3ef65-d046-459c-9019-b5977312ccce",
   "metadata": {},
   "outputs": [
    {
     "name": "stdout",
     "output_type": "stream",
     "text": [
      "Error: Cannot divide by zero\n",
      "I am outside of try and except block\n"
     ]
    }
   ],
   "source": [
    "#Exception handling to prevent wholeprogram from crashing\n",
    "try:\n",
    "    result = 10/0\n",
    "except ZeroDivisionError:\n",
    "    print(\"Error: Cannot divide by zero\")\n",
    "print(\"I am outside of try and except block\")"
   ]
  },
  {
   "cell_type": "code",
   "execution_count": 22,
   "id": "d27fb1e6-db6d-4e4e-97c4-d5563440990b",
   "metadata": {},
   "outputs": [
    {
     "name": "stdin",
     "output_type": "stream",
     "text": [
      "Please enter a number to divide a g\n"
     ]
    },
    {
     "name": "stdout",
     "output_type": "stream",
     "text": [
      "You did not provide a number\n",
      "Processing Complete\n"
     ]
    }
   ],
   "source": [
    "a = 1\n",
    "\n",
    "try:\n",
    "    b = int(input(\"Please enter a number to divide a\"))\n",
    "    a = a/b\n",
    "except ZeroDivisionError:\n",
    "    print(\"The number you provided cant divide 1 because it is 0\")\n",
    "except ValueError:\n",
    "    print(\"You did not provide a number\")\n",
    "except:\n",
    "    print(\"Something went wrong\")\n",
    "else:\n",
    "    print(\"success a=\",a)\n",
    "finally:\n",
    "    print(\"Processing Complete\")"
   ]
  },
  {
   "cell_type": "markdown",
   "id": "58c4b307-243e-4327-adf6-2941c359550c",
   "metadata": {},
   "source": [
    "<h3>Classes and Objects</h3>"
   ]
  },
  {
   "cell_type": "code",
   "execution_count": 11,
   "id": "e22f5d40-8d09-4d65-a8d8-6ea9cc9eb9c0",
   "metadata": {},
   "outputs": [
    {
     "name": "stdout",
     "output_type": "stream",
     "text": [
      "red\n"
     ]
    },
    {
     "data": {
      "text/plain": [
       "'blue'"
      ]
     },
     "execution_count": 11,
     "metadata": {},
     "output_type": "execute_result"
    }
   ],
   "source": [
    "class Circle:\n",
    "    def __init__(self, radius, color):     #init is a constructor that initializes data attributes and called automatically when object is created.\n",
    "        self.radius = radius\n",
    "        self.color = color\n",
    "C1 = Circle(4,\"red\")   #object creation\n",
    "print(C1.color)\n",
    "C1.color=\"blue\"\n",
    "C1.color"
   ]
  },
  {
   "cell_type": "code",
   "execution_count": 40,
   "id": "af0c4744-49ee-43f1-ba9c-62f22619aa26",
   "metadata": {},
   "outputs": [
    {
     "data": {
      "text/plain": [
       "10"
      ]
     },
     "execution_count": 40,
     "metadata": {},
     "output_type": "execute_result"
    }
   ],
   "source": [
    "class Circle:\n",
    "    def __init__(self, radius, color): #init is a constructor that initializes data attributes and called automatically when object is created.\n",
    "        self.radius = radius\n",
    "        self.color = color\n",
    "    def add_radius(self, r):#method to add r to radius\n",
    "        self.radius = self.radius + r\n",
    "        return (self.radius)\n",
    "C1 = Circle(4,\"red\")   #create instance of class\n",
    "C1.add_radius(6)   #call add_radius method\n",
    "    "
   ]
  },
  {
   "cell_type": "code",
   "execution_count": 15,
   "id": "d8c40149-d0b8-4b27-aa49-8938a8a2bddd",
   "metadata": {},
   "outputs": [
    {
     "data": {
      "image/png": "[encoded data removed]",
      "text/plain": [
       "<Figure size 640x480 with 1 Axes>"
      ]
     },
     "metadata": {},
     "output_type": "display_data"
    },
    {
     "data": {
      "image/png": "[encoded data removed]",
      "text/plain": [
       "<Figure size 640x480 with 1 Axes>"
      ]
     },
     "metadata": {},
     "output_type": "display_data"
    },
    {
     "data": {
      "text/plain": [
       "['__class__',\n",
       " '__delattr__',\n",
       " '__dict__',\n",
       " '__dir__',\n",
       " '__doc__',\n",
       " '__eq__',\n",
       " '__format__',\n",
       " '__ge__',\n",
       " '__getattribute__',\n",
       " '__getstate__',\n",
       " '__gt__',\n",
       " '__hash__',\n",
       " '__init__',\n",
       " '__init_subclass__',\n",
       " '__le__',\n",
       " '__lt__',\n",
       " '__module__',\n",
       " '__ne__',\n",
       " '__new__',\n",
       " '__reduce__',\n",
       " '__reduce_ex__',\n",
       " '__repr__',\n",
       " '__setattr__',\n",
       " '__sizeof__',\n",
       " '__str__',\n",
       " '__subclasshook__',\n",
       " '__weakref__',\n",
       " 'add_radius',\n",
       " 'color',\n",
       " 'drawCircle',\n",
       " 'radius']"
      ]
     },
     "execution_count": 15,
     "metadata": {},
     "output_type": "execute_result"
    }
   ],
   "source": [
    "#import library to draw the objects\n",
    "\n",
    "import matplotlib.pyplot as plt\n",
    "%matplotlib inline\n",
    "\n",
    "class Circle:\n",
    "    def __init__(self, radius=3, color=\"blue\"): #init is a constructor that initializes data attributes and called automatically when object is created.\n",
    "        self.radius = radius\n",
    "        self.color = color\n",
    "        \n",
    "    def add_radius(self, r):#method to add r to radius\n",
    "        self.radius = self.radius + r\n",
    "        return (self.radius)\n",
    "\n",
    "    def drawCircle(self):\n",
    "        plt.gca().add_patch(plt.Circle((0,0), radius= self.radius, fc = self.color))\n",
    "        plt.axis('scaled')\n",
    "        plt.show()  \n",
    "        \n",
    "C1 = Circle()   #create instance of class\n",
    "C1.add_radius(6)   #call add_radius method\n",
    "C1.drawCircle()    #call the drawCircle method\n",
    "C2 = Circle(color=\"red\")\n",
    "C2.drawCircle()\n",
    "\n",
    "dir(C1)   #to get object's data attributes and methods."
   ]
  },
  {
   "cell_type": "code",
   "execution_count": 19,
   "id": "c6938dd7-6b70-4438-9dfd-14c25d0a9b40",
   "metadata": {},
   "outputs": [
    {
     "data": {
      "image/png": "[encoded data removed]",
      "text/plain": [
       "<Figure size 640x480 with 1 Axes>"
      ]
     },
     "metadata": {},
     "output_type": "display_data"
    }
   ],
   "source": [
    "# Create a new Rectangle class for creating a rectangle object\n",
    "\n",
    "class Rectangle(object):\n",
    "    \n",
    "    # Constructor\n",
    "    def __init__(self, width=2, height=3, color='r'):\n",
    "        self.height = height \n",
    "        self.width = width\n",
    "        self.color = color\n",
    "    \n",
    "    # Method\n",
    "    def drawRectangle(self):\n",
    "        plt.gca().add_patch(plt.Rectangle((0, 0), self.width, self.height ,fc=self.color))\n",
    "        plt.axis('scaled')\n",
    "        plt.show()\n",
    "R1 = Rectangle()\n",
    "R1.drawRectangle()"
   ]
  },
  {
   "cell_type": "code",
   "execution_count": 21,
   "id": "45a5de04-53b9-43b0-9cdf-2f9abc2b7cf0",
   "metadata": {},
   "outputs": [
    {
     "name": "stdout",
     "output_type": "stream",
     "text": [
      "Properties of the Vehicle:\n",
      "Color: white\n",
      "Maximum Speed: 200\n",
      "Mileage: 20\n",
      "Seating Capacity: 5\n",
      "Properties of the Vehicle:\n",
      "Color: white\n",
      "Maximum Speed: 180\n",
      "Mileage: 25\n",
      "Seating Capacity: 4\n"
     ]
    }
   ],
   "source": [
    "#Car Dealership's inventory management system\n",
    "class vehicles:\n",
    "    color = \"white\"\n",
    "    \n",
    "    def __init__(self, max_speed, mileage):\n",
    "        self.max_speed = max_speed\n",
    "        self.mileage = mileage\n",
    "\n",
    "    def assign_seating_capacity(self, seating_capacity):\n",
    "        self.seating_capacity = seating_capacity\n",
    "        \n",
    "    def display_properties(self):\n",
    "         print(\"Properties of the Vehicle:\")\n",
    "         print(\"Color:\", self.color)\n",
    "         print(\"Maximum Speed:\", self.max_speed)\n",
    "         print(\"Mileage:\", self.mileage)\n",
    "         print(\"Seating Capacity:\", self.seating_capacity)\n",
    "\n",
    "V1 = vehicles(200,20)\n",
    "V1.assign_seating_capacity(5)\n",
    "V1.display_properties()\n",
    "\n",
    "V2 = vehicles(180,25)\n",
    "V2.assign_seating_capacity(4)\n",
    "V2.display_properties()"
   ]
  },
  {
   "cell_type": "markdown",
   "id": "32ce72b2-b511-4cad-85c8-ed26763ce5fb",
   "metadata": {},
   "source": [
    "<h3>Final Assignment of module 3</h3>"
   ]
  },
  {
   "cell_type": "code",
   "execution_count": 5,
   "id": "6ab19fa4-b2c4-4079-ab6c-7229f6dff0c0",
   "metadata": {},
   "outputs": [
    {
     "name": "stdout",
     "output_type": "stream",
     "text": [
      "frequency of all words: {'hi': 1, 'how': 1, 'are': 2, 'you': 2, 'what': 1, 'doing': 1}\n"
     ]
    },
    {
     "data": {
      "text/plain": [
       "2"
      ]
     },
     "execution_count": 5,
     "metadata": {},
     "output_type": "execute_result"
    }
   ],
   "source": [
    "              #Custome Reviews' Text Analysis\n",
    "#Use Python commands to perform text analysis.\n",
    "#Convert the text to lowercase\n",
    "#find and count the frequency of all unique words, as well as a specified word.\n",
    "\n",
    "class TextAnalyzer(object):\n",
    "    \n",
    "    def __init__ (self, text):\n",
    "        # remove punctuation\n",
    "        formattedText = text.replace('.',' ').replace('!',' ').replace('?',' ').replace(',',' ')\n",
    "        \n",
    "        # make text lowercase\n",
    "        formattedText = formattedText.lower()\n",
    "\n",
    "        self.fmtText = formattedText\n",
    "        \n",
    "    def freqAll(self):        \n",
    "        # split text into words\n",
    "        words = self.fmtText.split()\n",
    "        \n",
    "        # Create dictionary\n",
    "        wordFreq = {}\n",
    "        for key in words:\n",
    "            wordFreq[key] = words.count(key)\n",
    "        return wordFreq\n",
    "\n",
    "    def freqOf(self,word):\n",
    "        #get frequency map\n",
    "        dictFreq = self.freqAll()\n",
    "\n",
    "        if word in dictFreq:\n",
    "            return dictFreq[word]\n",
    "        else:\n",
    "            return 0\n",
    "\n",
    "#Create instance of class\n",
    "text1 = TextAnalyzer(\"Hi how are you. What are you doing?\")\n",
    "analysed = text1.freqAll()\n",
    "print(\"frequency of all words:\", analysed)\n",
    "text1.freqOf(\"you\")"
   ]
  },
  {
   "cell_type": "code",
   "execution_count": null,
   "id": "437e5475-eb6f-4bfe-baeb-85cde075a5dc",
   "metadata": {},
   "outputs": [],
   "source": []
  }
 ],
 "metadata": {
  "kernelspec": {
   "display_name": "Python [conda env:base] *",
   "language": "python",
   "name": "conda-base-py"
  },
  "language_info": {
   "codemirror_mode": {
    "name": "ipython",
    "version": 3
   },
   "file_extension": ".py",
   "mimetype": "text/x-python",
   "name": "python",
   "nbconvert_exporter": "python",
   "pygments_lexer": "ipython3",
   "version": "3.12.7"
  }
 },
 "nbformat": 4,
 "nbformat_minor": 5
}
