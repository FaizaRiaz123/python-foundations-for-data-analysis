{
 "cells": [
  {
   "cell_type": "code",
   "execution_count": 5,
   "id": "efcf8900-cb72-4f5f-85c2-ed6e94017cb9",
   "metadata": {},
   "outputs": [
    {
     "data": {
      "text/plain": [
       "numpy.ndarray"
      ]
     },
     "execution_count": 5,
     "metadata": {},
     "output_type": "execute_result"
    }
   ],
   "source": [
    "import numpy as np\n",
    "a = np.array([0,1,2,3,4])\n",
    "type(a)"
   ]
  },
  {
   "cell_type": "code",
   "execution_count": 11,
   "id": "cf5fa350-d1be-486a-acd9-ee915c8f54ca",
   "metadata": {},
   "outputs": [
    {
     "data": {
      "text/plain": [
       "dtype('int32')"
      ]
     },
     "execution_count": 11,
     "metadata": {},
     "output_type": "execute_result"
    }
   ],
   "source": [
    "a.dtype"
   ]
  },
  {
   "cell_type": "code",
   "execution_count": 5,
   "id": "4de424b4-492c-403c-8a3a-3a10fa8f4ee6",
   "metadata": {},
   "outputs": [
    {
     "name": "stdout",
     "output_type": "stream",
     "text": [
      "1.26.4\n"
     ]
    }
   ],
   "source": [
    "print(np.__version__)"
   ]
  },
  {
   "cell_type": "code",
   "execution_count": 13,
   "id": "b00ce033-0b05-4e4f-9662-8ac11d1f575e",
   "metadata": {},
   "outputs": [
    {
     "data": {
      "text/plain": [
       "5"
      ]
     },
     "execution_count": 13,
     "metadata": {},
     "output_type": "execute_result"
    }
   ],
   "source": [
    "a.size"
   ]
  },
  {
   "cell_type": "code",
   "execution_count": 15,
   "id": "a5975d0b-fac3-40a5-961a-e70ef1afd14c",
   "metadata": {},
   "outputs": [
    {
     "data": {
      "text/plain": [
       "1"
      ]
     },
     "execution_count": 15,
     "metadata": {},
     "output_type": "execute_result"
    }
   ],
   "source": [
    "#the no. of array dimensions or rank of the array\n",
    "a.ndim"
   ]
  },
  {
   "cell_type": "code",
   "execution_count": 17,
   "id": "0ff54e00-cf80-4bd2-a5bf-74dbfd3f3f7b",
   "metadata": {},
   "outputs": [
    {
     "data": {
      "text/plain": [
       "(5,)"
      ]
     },
     "execution_count": 17,
     "metadata": {},
     "output_type": "execute_result"
    }
   ],
   "source": [
    "#tuple of integers indicating the size of array in each dimension\n",
    "a.shape"
   ]
  },
  {
   "cell_type": "code",
   "execution_count": 23,
   "id": "c7d4aec8-c46d-44f8-be7a-007fcdb08104",
   "metadata": {},
   "outputs": [
    {
     "name": "stdout",
     "output_type": "stream",
     "text": [
      "<class 'numpy.ndarray'>\n"
     ]
    },
    {
     "data": {
      "text/plain": [
       "dtype('float64')"
      ]
     },
     "execution_count": 23,
     "metadata": {},
     "output_type": "execute_result"
    }
   ],
   "source": [
    "#Numpy array with real numbers\n",
    "b = np.array([3.2, 1.9,4.9,3.7])\n",
    "print(type(b))\n",
    "b.dtype"
   ]
  },
  {
   "cell_type": "code",
   "execution_count": 35,
   "id": "f5fa7e27-58f2-4445-8d5c-fdf4b93d46d6",
   "metadata": {},
   "outputs": [
    {
     "name": "stdout",
     "output_type": "stream",
     "text": [
      "[100  25   7  26]\n"
     ]
    }
   ],
   "source": [
    "c= np.array([20,25,7,26])\n",
    "c[0] = 100\n",
    "print(c)"
   ]
  },
  {
   "cell_type": "code",
   "execution_count": 41,
   "id": "dbbfb0df-a3d9-473e-b7fb-495b0f56b5b0",
   "metadata": {},
   "outputs": [
    {
     "name": "stdout",
     "output_type": "stream",
     "text": [
      "[25  7]\n"
     ]
    }
   ],
   "source": [
    "d = c[1:3]   #excluding element at index 3\n",
    "print(d)"
   ]
  },
  {
   "cell_type": "code",
   "execution_count": 47,
   "id": "fdd37144-733f-4ff3-a79d-48960894188f",
   "metadata": {},
   "outputs": [
    {
     "name": "stdout",
     "output_type": "stream",
     "text": [
      "[100  25 200 300]\n"
     ]
    }
   ],
   "source": [
    "c[2:4] = 200,300\n",
    "print(c)"
   ]
  },
  {
   "cell_type": "code",
   "execution_count": 49,
   "id": "129f5a44-ae88-4d82-8577-3ec9c4c4b272",
   "metadata": {},
   "outputs": [],
   "source": [
    "#operations in numpy are faster and require less memory"
   ]
  },
  {
   "cell_type": "code",
   "execution_count": 63,
   "id": "54c97c05-7e43-4736-a48b-beddbf5b56ab",
   "metadata": {},
   "outputs": [
    {
     "name": "stdout",
     "output_type": "stream",
     "text": [
      "[2, 0]\n"
     ]
    }
   ],
   "source": [
    "#Vector Addition and Subtraction\n",
    "#witg regular Python\n",
    "u = [1,0]\n",
    "v = [1,0]\n",
    "z = []\n",
    "for n,m in zip(u,v):\n",
    "    z.append(n+m)\n",
    "print(z)"
   ]
  },
  {
   "cell_type": "code",
   "execution_count": 65,
   "id": "670ad5dd-2f46-4775-9f41-c6cb969562f9",
   "metadata": {},
   "outputs": [
    {
     "name": "stdout",
     "output_type": "stream",
     "text": [
      "[1 1]\n"
     ]
    }
   ],
   "source": [
    "#wiht Numpy faster and efficient\n",
    "u = np.array([1,0])\n",
    "v = np.array([0,1])\n",
    "z = u+v\n",
    "print(z)"
   ]
  },
  {
   "cell_type": "code",
   "execution_count": 67,
   "id": "b351e572-9890-456c-8103-65ee2da1efa9",
   "metadata": {},
   "outputs": [
    {
     "name": "stdout",
     "output_type": "stream",
     "text": [
      "[ 1 -1]\n"
     ]
    }
   ],
   "source": [
    "u = np.array([1,0])\n",
    "v = np.array([0,1])\n",
    "x = u-v\n",
    "print(x)"
   ]
  },
  {
   "cell_type": "code",
   "execution_count": 71,
   "id": "fe81424f-d10d-4bb5-a66c-ef3643e51f96",
   "metadata": {},
   "outputs": [
    {
     "name": "stdout",
     "output_type": "stream",
     "text": [
      "[2, 4]\n"
     ]
    }
   ],
   "source": [
    "#Vector Multiplication\n",
    "#without Numpy\n",
    "y= [1,2]\n",
    "z = []\n",
    "for n in y:\n",
    "    z.append(2*n)\n",
    "print(z)"
   ]
  },
  {
   "cell_type": "code",
   "execution_count": 73,
   "id": "f45377ca-a2e8-49a6-92ab-96031bdbae23",
   "metadata": {},
   "outputs": [
    {
     "name": "stdout",
     "output_type": "stream",
     "text": [
      "[2 4]\n"
     ]
    }
   ],
   "source": [
    "#Vector Multiplication with Numpy\n",
    "y = np.array([1,2])\n",
    "z= 2*y\n",
    "print(z)"
   ]
  },
  {
   "cell_type": "code",
   "execution_count": 75,
   "id": "07c6dce7-5807-4aec-b61a-7ee3e2ab5263",
   "metadata": {},
   "outputs": [
    {
     "name": "stdout",
     "output_type": "stream",
     "text": [
      "[3, 4]\n"
     ]
    }
   ],
   "source": [
    "#Product of 2 Numpy Arrays\n",
    "#without Numpy\n",
    "u=[1,2]\n",
    "v=[3,2]\n",
    "z=[]\n",
    "for n,m in zip(u,v):\n",
    "    z.append(n*m)\n",
    "print(z)"
   ]
  },
  {
   "cell_type": "code",
   "execution_count": 81,
   "id": "80e6c100-267b-4b02-bd54-38d53000996f",
   "metadata": {},
   "outputs": [
    {
     "name": "stdout",
     "output_type": "stream",
     "text": [
      "[3 4]\n"
     ]
    }
   ],
   "source": [
    "#with Numpy\n",
    "u=np.array([1,2])\n",
    "v=np.array([3,2])\n",
    "z=u*v\n",
    "print(z)"
   ]
  },
  {
   "cell_type": "code",
   "execution_count": 83,
   "id": "ddc737ad-1525-4d5d-9eeb-d7d0dfa7a023",
   "metadata": {},
   "outputs": [
    {
     "name": "stdout",
     "output_type": "stream",
     "text": [
      "5\n"
     ]
    }
   ],
   "source": [
    "#Dot product\n",
    "u=np.array([1,2])\n",
    "v=np.array([3,1])\n",
    "z=np.dot(u,v)\n",
    "print(z)"
   ]
  },
  {
   "cell_type": "code",
   "execution_count": 85,
   "id": "d7ed8bca-6677-4de5-8d17-53a9636ef8a3",
   "metadata": {},
   "outputs": [
    {
     "name": "stdout",
     "output_type": "stream",
     "text": [
      "[2 3 4 6]\n"
     ]
    }
   ],
   "source": [
    "#Adding constant to a numpy array/ Broadcasting\n",
    "u=np.array([1,2,3,5])\n",
    "z=u+1\n",
    "print(z)"
   ]
  },
  {
   "cell_type": "markdown",
   "id": "c6ddb6f8-c06e-4e31-931c-924c674a8846",
   "metadata": {},
   "source": [
    "<h4>Universal Functions</h4>"
   ]
  },
  {
   "cell_type": "code",
   "execution_count": 7,
   "id": "f81b16d2-02c1-4093-a2c1-f8e6c1276956",
   "metadata": {},
   "outputs": [
    {
     "name": "stdout",
     "output_type": "stream",
     "text": [
      "5.0\n"
     ]
    }
   ],
   "source": [
    "#find mean\n",
    "a=np.array([2,4,6,8])\n",
    "mean_a=a.mean()              #finds avg/mean\n",
    "print(mean_a)"
   ]
  },
  {
   "cell_type": "code",
   "execution_count": 14,
   "id": "1526cd1f-6117-4d52-8605-87e1b1e00986",
   "metadata": {},
   "outputs": [
    {
     "data": {
      "text/plain": [
       "8"
      ]
     },
     "execution_count": 14,
     "metadata": {},
     "output_type": "execute_result"
    }
   ],
   "source": [
    "#Maximum\n",
    "max_a=a.max()\n",
    "max_a"
   ]
  },
  {
   "cell_type": "code",
   "execution_count": 20,
   "id": "d7606702-14ef-4852-95f6-c21619565f16",
   "metadata": {},
   "outputs": [
    {
     "data": {
      "text/plain": [
       "array([0.0000000e+00, 1.0000000e+00, 1.2246468e-16])"
      ]
     },
     "execution_count": 20,
     "metadata": {},
     "output_type": "execute_result"
    }
   ],
   "source": [
    "#function to map Numpy arrays to new Numpy arrays.\n",
    "np.pi\n",
    "x=np.array([0,np.pi/2,np.pi])\n",
    "y=np.sin(x)                   #applies sin to all elements of array\n",
    "y"
   ]
  },
  {
   "cell_type": "code",
   "execution_count": 24,
   "id": "4921c250-4de0-4b4e-aa18-4027c8d37f36",
   "metadata": {},
   "outputs": [
    {
     "data": {
      "text/plain": [
       "array([-2. , -1.5, -1. , -0.5,  0. ,  0.5,  1. ,  1.5,  2. ])"
      ]
     },
     "execution_count": 24,
     "metadata": {},
     "output_type": "execute_result"
    }
   ],
   "source": [
    "#function for plotting mathematical function in line space\n",
    "np.linspace(-2,2,num=9)"
   ]
  },
  {
   "cell_type": "code",
   "execution_count": 40,
   "id": "1b4a4230-bbb5-4ea4-9d34-f52b5efc4375",
   "metadata": {},
   "outputs": [
    {
     "data": {
      "image/png": "[encoded data removed]",
      "text/plain": [
       "<Figure size 640x480 with 1 Axes>"
      ]
     },
     "metadata": {},
     "output_type": "display_data"
    }
   ],
   "source": [
    "x=np.linspace(0,2*np.pi,100)\n",
    "y=np.sin(x)\n",
    "import matplotlib.pyplot as plt\n",
    "%matplotlib inline\n",
    "plt.plot(x,y)\n",
    "plt.xlabel('x')\n",
    "plt.ylabel('sin(x)')\n",
    "plt.title('Sine Function')\n",
    "plt.grid(True)\n",
    "plt.show()"
   ]
  },
  {
   "cell_type": "code",
   "execution_count": 9,
   "id": "dfd54655-75d8-482e-9a2a-ed778d5d08d8",
   "metadata": {},
   "outputs": [
    {
     "data": {
      "text/plain": [
       "array([2, 4, 6, 8])"
      ]
     },
     "execution_count": 9,
     "metadata": {},
     "output_type": "execute_result"
    }
   ],
   "source": [
    "#print even numbers\n",
    "arr = np.array([1, 2, 3, 4, 5, 6, 7, 8])\n",
    "arr[1:8:2]   #arr(start:end:step/interval)"
   ]
  },
  {
   "cell_type": "code",
   "execution_count": 15,
   "id": "57aecbcd-856b-4af8-96db-62633c2949cd",
   "metadata": {},
   "outputs": [
    {
     "name": "stdout",
     "output_type": "stream",
     "text": [
      "[ 3  7 11 13 16]\n",
      "[1 1 1 1 0]\n",
      "[ 2 12 30 42 64]\n",
      "[2.         1.33333333 1.2        1.16666667 1.        ]\n"
     ]
    }
   ],
   "source": [
    "#arrithmetic operations on array in numpy\n",
    "arr1 = np.array([2,4,6,7,8])\n",
    "arr2 = np.array([1,3,5,6,8])\n",
    "\n",
    "a = np.add(arr1,arr2)\n",
    "print(a)\n",
    "\n",
    "b = np.subtract(arr1,arr2)\n",
    "print(b)\n",
    "\n",
    "c=np.multiply(arr1,arr2)\n",
    "print(c)\n",
    "\n",
    "d = np.divide(arr1,arr2)\n",
    "print(d)"
   ]
  },
  {
   "cell_type": "markdown",
   "id": "87cc231e-8962-4e79-a992-ef3f7c5c8f22",
   "metadata": {},
   "source": [
    "<h3>Two Dimensional Array</h3>"
   ]
  },
  {
   "cell_type": "code",
   "execution_count": 7,
   "id": "85419f87-23f7-4d26-984f-6c17eedffcc0",
   "metadata": {},
   "outputs": [
    {
     "name": "stdout",
     "output_type": "stream",
     "text": [
      "[[11 12 13]\n",
      " [21 22 23]\n",
      " [31 32 33]]\n"
     ]
    }
   ],
   "source": [
    "a = [[11,12,13],[21,22,23],[31,32,33]]\n",
    "A = np.array(a)\n",
    "print(A)"
   ]
  },
  {
   "cell_type": "code",
   "execution_count": 23,
   "id": "545571a9-c952-4d11-a71c-342f7edf57ad",
   "metadata": {},
   "outputs": [
    {
     "data": {
      "text/plain": [
       "2"
      ]
     },
     "execution_count": 23,
     "metadata": {},
     "output_type": "execute_result"
    }
   ],
   "source": [
    "A.ndim"
   ]
  },
  {
   "cell_type": "code",
   "execution_count": 13,
   "id": "cb89d655-67b9-4859-939f-6d5e30b284b1",
   "metadata": {},
   "outputs": [
    {
     "name": "stdout",
     "output_type": "stream",
     "text": [
      "(3, 3)\n"
     ]
    },
    {
     "data": {
      "text/plain": [
       "3"
      ]
     },
     "execution_count": 13,
     "metadata": {},
     "output_type": "execute_result"
    }
   ],
   "source": [
    "print(A.shape)  #shape(rows,columns)\n",
    "A.shape[1]    # retrieves no. of columns only"
   ]
  },
  {
   "cell_type": "code",
   "execution_count": 31,
   "id": "cf68f8a5-c1c9-4083-8b8f-3beff32e0271",
   "metadata": {},
   "outputs": [
    {
     "data": {
      "text/plain": [
       "9"
      ]
     },
     "execution_count": 31,
     "metadata": {},
     "output_type": "execute_result"
    }
   ],
   "source": [
    "A.size   #rows*columns"
   ]
  },
  {
   "cell_type": "code",
   "execution_count": 39,
   "id": "3891eec7-bd60-4020-9dca-4c57c6640659",
   "metadata": {},
   "outputs": [
    {
     "name": "stdout",
     "output_type": "stream",
     "text": [
      "21\n",
      "21\n"
     ]
    }
   ],
   "source": [
    "#ways to access array elements:\n",
    "print(A[1][0])\n",
    "print(A[1,0])"
   ]
  },
  {
   "cell_type": "code",
   "execution_count": 45,
   "id": "2ec42940-46a3-4654-a0c6-4d8b64ea0f1e",
   "metadata": {},
   "outputs": [
    {
     "name": "stdout",
     "output_type": "stream",
     "text": [
      "[11 12]\n"
     ]
    }
   ],
   "source": [
    "#slicing\n",
    "print(A[0,0:2])"
   ]
  },
  {
   "cell_type": "code",
   "execution_count": 47,
   "id": "8f815203-9962-4985-9ee8-316c5314a541",
   "metadata": {},
   "outputs": [
    {
     "data": {
      "text/plain": [
       "array([13, 23])"
      ]
     },
     "execution_count": 47,
     "metadata": {},
     "output_type": "execute_result"
    }
   ],
   "source": [
    "A[0:2,2]"
   ]
  },
  {
   "cell_type": "code",
   "execution_count": 51,
   "id": "01139775-25ba-49b2-acb8-fe120dcab005",
   "metadata": {},
   "outputs": [
    {
     "name": "stdout",
     "output_type": "stream",
     "text": [
      "[[4 5]\n",
      " [9 4]]\n"
     ]
    }
   ],
   "source": [
    "#Matrices Addition\n",
    "\n",
    "x=np.array([[3,2],[5,2]])\n",
    "y=np.array([[1,3],[4,2]])\n",
    "\n",
    "z=x+y\n",
    "print(z)"
   ]
  },
  {
   "cell_type": "code",
   "execution_count": 53,
   "id": "c1150d81-3b50-487a-b6b6-ca1f89ac6486",
   "metadata": {},
   "outputs": [
    {
     "name": "stdout",
     "output_type": "stream",
     "text": [
      "[[ 6  4]\n",
      " [10  4]]\n"
     ]
    }
   ],
   "source": [
    "#scalar multiplication\n",
    "a=2*x\n",
    "print(a)"
   ]
  },
  {
   "cell_type": "code",
   "execution_count": 55,
   "id": "3aed07c5-813b-43e3-9c04-9c257c678b79",
   "metadata": {},
   "outputs": [
    {
     "name": "stdout",
     "output_type": "stream",
     "text": [
      "[[ 3  6]\n",
      " [20  4]]\n"
     ]
    }
   ],
   "source": [
    "#Hadamard product/ multiplication of arrays\n",
    "m = x*y\n",
    "print(m)"
   ]
  },
  {
   "cell_type": "code",
   "execution_count": 57,
   "id": "56df628f-3713-4c90-8bbd-adb951bc119a",
   "metadata": {},
   "outputs": [
    {
     "name": "stdout",
     "output_type": "stream",
     "text": [
      "[[11 13]\n",
      " [13 19]]\n"
     ]
    }
   ],
   "source": [
    "#Matrix Multiplication\n",
    "c = np.dot(x,y)\n",
    "print(c)"
   ]
  },
  {
   "cell_type": "code",
   "execution_count": null,
   "id": "5e980b0a-fab3-4bfb-ba74-103b66be0bb9",
   "metadata": {},
   "outputs": [],
   "source": []
  }
 ],
 "metadata": {
  "kernelspec": {
   "display_name": "Python [conda env:base] *",
   "language": "python",
   "name": "conda-base-py"
  },
  "language_info": {
   "codemirror_mode": {
    "name": "ipython",
    "version": 3
   },
   "file_extension": ".py",
   "mimetype": "text/x-python",
   "name": "python",
   "nbconvert_exporter": "python",
   "pygments_lexer": "ipython3",
   "version": "3.12.7"
  }
 },
 "nbformat": 4,
 "nbformat_minor": 5
}
