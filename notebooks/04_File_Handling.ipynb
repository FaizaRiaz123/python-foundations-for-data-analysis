{
 "cells": [
  {
   "cell_type": "markdown",
   "id": "d16e8767-8e34-4873-bec1-d9b29e158e97",
   "metadata": {},
   "source": [
    "<h3>Reading Files with Open</h3>"
   ]
  },
  {
   "cell_type": "code",
   "execution_count": null,
   "id": "791ed4f6-e434-4cc2-8a4e-d0f7add45cf4",
   "metadata": {},
   "outputs": [],
   "source": [
    "file1 = open(\"../data/test_file.txt\",\"r\")"
   ]
  },
  {
   "cell_type": "code",
   "execution_count": null,
   "id": "f772300a-5c83-4f4b-abe8-5c8ec3ba7ef9",
   "metadata": {},
   "outputs": [
    {
     "data": {
      "text/plain": [
       "'C:\\\\Users\\\\Faiza\\\\Desktop\\\\Data Science\\\\only test.txt'"
      ]
     },
     "execution_count": 95,
     "metadata": {},
     "output_type": "execute_result"
    }
   ],
   "source": [
    "file1.name"
   ]
  },
  {
   "cell_type": "code",
   "execution_count": null,
   "id": "6f6c41b0-a69c-43b2-934b-45c19b5e6597",
   "metadata": {},
   "outputs": [
    {
     "data": {
      "text/plain": [
       "'r'"
      ]
     },
     "execution_count": 97,
     "metadata": {},
     "output_type": "execute_result"
    }
   ],
   "source": [
    "file1.mode"
   ]
  },
  {
   "cell_type": "code",
   "execution_count": null,
   "id": "0a9dd73f-b9b3-454d-84ac-17f662024b72",
   "metadata": {},
   "outputs": [],
   "source": [
    "#should close open file using close function\n",
    "file1.close()"
   ]
  },
  {
   "cell_type": "code",
   "execution_count": null,
   "id": "c649e791-b42f-4845-ba2e-9c1631fc95d8",
   "metadata": {},
   "outputs": [
    {
     "name": "stdout",
     "output_type": "stream",
     "text": [
      "practice\n",
      "i'm on which line \\n oh acha got it \n",
      "True\n",
      "practice\n",
      "i'm on which line \\n oh acha got it \n"
     ]
    }
   ],
   "source": [
    "#with statement to get rid of close functions\n",
    "#better practice bcz it automatically closes the file.\n",
    "#will perform all operations in the indent block of 'with' and then closes files itself\n",
    "\n",
    "with open(\"test_file.txt\", \"r\") as file1:\n",
    "    file_stuff = file1.read()\n",
    "    print(file_stuff)\n",
    "print(file1.closed)\n",
    "print(file_stuff) #cant read after closed with function but can be printed"
   ]
  },
  {
   "cell_type": "code",
   "execution_count": null,
   "id": "4b2efa4d-36b5-45b5-8e51-47b7b32aad70",
   "metadata": {},
   "outputs": [
    {
     "name": "stdout",
     "output_type": "stream",
     "text": [
      "C:\\Users\\Faiza\n"
     ]
    }
   ],
   "source": [
    "#to check current working directory\n",
    "import os\n",
    "print(os.getcwd())"
   ]
  },
  {
   "cell_type": "code",
   "execution_count": null,
   "id": "731de62b-b636-4acb-bd06-87ee7d59ae57",
   "metadata": {},
   "outputs": [
    {
     "name": "stdout",
     "output_type": "stream",
     "text": [
      "practice\n",
      "\n",
      "i'm on which line \\n oh acha got it \n"
     ]
    }
   ],
   "source": [
    "# output every line as an element in a list using the method \"readline\"\n",
    "with open(\"test_file.txt\", \"r\") as file1:\n",
    "    file_stuff = file1.readline()\n",
    "    print(file_stuff)\n",
    "    file_stuff = file1.readline()\n",
    "    print(file_stuff)"
   ]
  },
  {
   "cell_type": "code",
   "execution_count": null,
   "id": "8f7a848e-1af7-4071-8f92-c35149550dd7",
   "metadata": {},
   "outputs": [
    {
     "name": "stdout",
     "output_type": "stream",
     "text": [
      "practice\n",
      "\n",
      "i'm on which line \\n oh acha got it \n"
     ]
    }
   ],
   "source": [
    "#loop to print each line individually\n",
    "with open(\"test_file.txt\", \"r\") as file1:\n",
    "    for line in file1:\n",
    "        print(line)"
   ]
  },
  {
   "cell_type": "code",
   "execution_count": null,
   "id": "65e749b1-331e-4b72-a68b-d2c92e31c01a",
   "metadata": {},
   "outputs": [
    {
     "name": "stdout",
     "output_type": "stream",
     "text": [
      "prac\n",
      "ti\n"
     ]
    }
   ],
   "source": [
    "# to read specific no. of strings\n",
    "with open(\"test_file.txt\", \"r\") as file1:\n",
    "    file_stuff = file1.readline(4)\n",
    "    print(file_stuff)\n",
    "    file_stuff = file1.readline(2)\n",
    "    print(file_stuff)"
   ]
  },
  {
   "cell_type": "markdown",
   "id": "6ad30a0e-acec-4351-87bd-017736ac0347",
   "metadata": {},
   "source": [
    "<h3>Writing Files with Open</h3>"
   ]
  },
  {
   "cell_type": "code",
   "execution_count": null,
   "id": "e8e11795-1eea-4f2a-aaa8-f286025ba42d",
   "metadata": {},
   "outputs": [],
   "source": [
    "with open(r\"../data\\writeFile.txt\", \"w\") as file2:\n",
    "    file2.write(\"This is line A.\\n\")\n",
    "    file2.write(\"This is line B. \\n\")\n",
    "    \n",
    "    "
   ]
  },
  {
   "cell_type": "code",
   "execution_count": null,
   "id": "a53ca518-999c-4b91-8e5d-cd9d67a30dd6",
   "metadata": {},
   "outputs": [],
   "source": [
    "#writing each element in a list to a file\n",
    "lines = [\"I'm line 1\\n\", \"I'm Line 2 \\n\", \"I'm line 3 \\n\"]\n",
    "\n",
    "with open(r\"../data/writeFile.txt\", \"w\") as file2:\n",
    "    for line in lines:\n",
    "        file2.write(line)"
   ]
  },
  {
   "cell_type": "markdown",
   "id": "2bae60bd-4dc9-4285-85eb-c097e363361a",
   "metadata": {},
   "source": [
    "<h3>Append a file</h3>"
   ]
  },
  {
   "cell_type": "code",
   "execution_count": null,
   "id": "9ee28898-bbe6-404a-9e9f-784a97d83c32",
   "metadata": {},
   "outputs": [
    {
     "name": "stdout",
     "output_type": "stream",
     "text": [
      "I'm line 1\n",
      "I'm Line 2 \n",
      "I'm line 3 \n",
      "I'm line 4.I'm line 4.I'm line 4.\n"
     ]
    }
   ],
   "source": [
    "# append does not create a new file and appends the existing one\n",
    "\n",
    "with open(r\"../data/writeFile.txt\", \"a\") as file2:\n",
    "    file2.write(\"I'm line 4.\")\n",
    "    \n",
    "#verify changes\n",
    "with open(\"writeFile.txt\",\"r\") as file2:\n",
    "    print(file2.read())"
   ]
  },
  {
   "cell_type": "code",
   "execution_count": null,
   "id": "236bcc72-6452-4708-b901-cdedde71cd4d",
   "metadata": {},
   "outputs": [],
   "source": [
    "#copy one file to a new file\n",
    "with open(\"writeFile.txt\",\"r\") as readfile:\n",
    "    with open(\"copyFile.txt\", \"w\") as copyfile:\n",
    "        for line in readfile:\n",
    "            copyfile.write(line)"
   ]
  },
  {
   "cell_type": "code",
   "execution_count": null,
   "id": "083505e3-0cba-4137-adc8-92143f5ca145",
   "metadata": {},
   "outputs": [],
   "source": []
  }
 ],
 "metadata": {
  "kernelspec": {
   "display_name": "Python [conda env:base] *",
   "language": "python",
   "name": "conda-base-py"
  },
  "language_info": {
   "codemirror_mode": {
    "name": "ipython",
    "version": 3
   },
   "file_extension": ".py",
   "mimetype": "text/x-python",
   "name": "python",
   "nbconvert_exporter": "python",
   "pygments_lexer": "ipython3",
   "version": "3.12.7"
  }
 },
 "nbformat": 4,
 "nbformat_minor": 5
}
