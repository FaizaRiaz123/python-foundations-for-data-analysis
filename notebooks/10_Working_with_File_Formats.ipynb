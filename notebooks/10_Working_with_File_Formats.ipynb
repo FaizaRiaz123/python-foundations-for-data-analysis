{
 "cells": [
  {
   "cell_type": "code",
   "execution_count": 7,
   "id": "1559c2dd-9c16-46b5-af4f-550e08138ff5",
   "metadata": {},
   "outputs": [
    {
     "name": "stdout",
     "output_type": "stream",
     "text": [
      "   Unnamed: 0    Sales Person    Country              Product       Date  \\\n",
      "0           0  Jehu Rudeforth         UK      Mint Chip Choco  04-Jan-22   \n",
      "1           3    Jan Morforth  Australia  Peanut Butter Cubes  27-Apr-22   \n",
      "2           4  Jehu Rudeforth         UK  Peanut Butter Cubes  24-Feb-22   \n",
      "3           6      Oby Sorrel         UK      99% Dark & Pure  25-Jan-22   \n",
      "4           9     Brien Boise  Australia      99% Dark & Pure  04-Jul-22   \n",
      "\n",
      "     Amount  Boxes Shipped  \n",
      "0   $5,320             180  \n",
      "1  $12,726             342  \n",
      "2  $13,685             184  \n",
      "3  $13,685             176  \n",
      "4   $2,835             102  \n"
     ]
    }
   ],
   "source": [
    "#accessing csv files uisng pandas\n",
    "import pandas as pd\n",
    "file = \"High chocolate shipping.csv\"\n",
    "df = pd.read_csv(file)\n",
    "print (df.head())"
   ]
  },
  {
   "cell_type": "code",
   "execution_count": 9,
   "id": "fa6997d8-5b0e-4b56-8cfb-b591dcefbfcb",
   "metadata": {},
   "outputs": [
    {
     "name": "stdout",
     "output_type": "stream",
     "text": [
      "{'fruit': 'Apple', 'size': 'Large', 'color': 'Red'}\n"
     ]
    }
   ],
   "source": [
    "# accessing JSON file format(similar to dictionary)\n",
    "import json\n",
    "\n",
    "with open(\"sample1.json\",\"r\") as openfile:\n",
    "    json_object = json.load(openfile)\n",
    "\n",
    "print(json_object)"
   ]
  },
  {
   "cell_type": "code",
   "execution_count": 17,
   "id": "88359b3a-5964-414b-ba86-12cbb885a9c4",
   "metadata": {},
   "outputs": [
    {
     "name": "stdout",
     "output_type": "stream",
     "text": [
      "<Element 'root' at 0x000001FD6372EF20>\n"
     ]
    }
   ],
   "source": [
    "#Reading XML files\n",
    "import pandas as pd\n",
    "\n",
    "#import etree library to parse XML file\n",
    "import xml.etree.ElementTree as etree\n",
    "tree = etree.parse(\"sample1.xml\")\n",
    "root = tree.getroot()\n",
    "print(root)\n",
    "\n",
    "columns = [\"Name\",\"Phone No.\",\"Birthday\"]\n",
    "df = pd.DataFrame(columns = columns)"
   ]
  },
  {
   "cell_type": "code",
   "execution_count": 32,
   "id": "6db81adb-b37f-44b8-b510-fffd412ad609",
   "metadata": {},
   "outputs": [
    {
     "name": "stdout",
     "output_type": "stream",
     "text": [
      "None\n",
      "None\n",
      "None\n"
     ]
    }
   ],
   "source": [
    "for node in root:\n",
    "    fruit = node.find(\"color\")\n",
    "    print(fruit)"
   ]
  },
  {
   "cell_type": "code",
   "execution_count": null,
   "id": "fa10dad8-ada7-4ba2-8aa7-81a59674847f",
   "metadata": {},
   "outputs": [],
   "source": []
  },
  {
   "cell_type": "code",
   "execution_count": null,
   "id": "8d861be4-2c91-4616-8877-9d7b64d04e92",
   "metadata": {},
   "outputs": [],
   "source": []
  }
 ],
 "metadata": {
  "kernelspec": {
   "display_name": "Python [conda env:base] *",
   "language": "python",
   "name": "conda-base-py"
  },
  "language_info": {
   "codemirror_mode": {
    "name": "ipython",
    "version": 3
   },
   "file_extension": ".py",
   "mimetype": "text/x-python",
   "name": "python",
   "nbconvert_exporter": "python",
   "pygments_lexer": "ipython3",
   "version": "3.12.7"
  }
 },
 "nbformat": 4,
 "nbformat_minor": 5
}
