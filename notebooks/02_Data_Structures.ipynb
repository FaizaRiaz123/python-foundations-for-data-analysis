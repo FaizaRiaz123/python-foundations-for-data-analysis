{
 "cells": [
  {
   "cell_type": "markdown",
   "id": "13b7bf1e-a3f2-469a-823d-024ad1b83be0",
   "metadata": {},
   "source": [
    "<h3>Tuples</h3>"
   ]
  },
  {
   "cell_type": "code",
   "execution_count": 40,
   "id": "03d95b18-26cb-414c-b193-fa56e1fe6541",
   "metadata": {},
   "outputs": [
    {
     "data": {
      "text/plain": [
       "tuple"
      ]
     },
     "execution_count": 40,
     "metadata": {},
     "output_type": "execute_result"
    }
   ],
   "source": [
    "tuple1 = ('Faiza', 3, 3.7)\n",
    "type(tuple1)"
   ]
  },
  {
   "cell_type": "code",
   "execution_count": 60,
   "id": "74062878-c3d7-4be0-833c-cb9635ed5872",
   "metadata": {},
   "outputs": [
    {
     "data": {
      "text/plain": [
       "('Faiza', 3, 3.7, 'Sana', 7)"
      ]
     },
     "execution_count": 60,
     "metadata": {},
     "output_type": "execute_result"
    }
   ],
   "source": [
    "tuple2 = tuple1 + ('Sana', 7)  #concatenation\n",
    "tuple2"
   ]
  },
  {
   "cell_type": "code",
   "execution_count": 34,
   "id": "480a2c2c-cf2c-47df-8e11-786a7459b52c",
   "metadata": {},
   "outputs": [
    {
     "name": "stdout",
     "output_type": "stream",
     "text": [
      "('Faiza', 3, 3.7)\n"
     ]
    },
    {
     "data": {
      "text/plain": [
       "('Sana', 7)"
      ]
     },
     "execution_count": 34,
     "metadata": {},
     "output_type": "execute_result"
    }
   ],
   "source": [
    "print(tuple2[0:3]) #slicing (last index should be one larger than the index of the tuple.\n",
    "tuple2[3:5]"
   ]
  },
  {
   "cell_type": "code",
   "execution_count": 36,
   "id": "289a5be9-7d0b-4e29-9f67-2944e5431926",
   "metadata": {},
   "outputs": [
    {
     "data": {
      "text/plain": [
       "5"
      ]
     },
     "execution_count": 36,
     "metadata": {},
     "output_type": "execute_result"
    }
   ],
   "source": [
    "len(tuple2)"
   ]
  },
  {
   "cell_type": "code",
   "execution_count": 42,
   "id": "d620c496-98a9-4120-9bc9-755ee3fd8c4e",
   "metadata": {},
   "outputs": [
    {
     "data": {
      "text/plain": [
       "[2, 3, 4, 5, 8]"
      ]
     },
     "execution_count": 42,
     "metadata": {},
     "output_type": "execute_result"
    }
   ],
   "source": [
    "ratings = (3,8,2,5,4)\n",
    "sorted(ratings)"
   ]
  },
  {
   "cell_type": "code",
   "execution_count": 50,
   "id": "fef56589-90fb-4664-b57b-a66fd12c65c0",
   "metadata": {},
   "outputs": [
    {
     "name": "stdout",
     "output_type": "stream",
     "text": [
      "('hi', 'bye')\n"
     ]
    },
    {
     "data": {
      "text/plain": [
       "'hi'"
      ]
     },
     "execution_count": 50,
     "metadata": {},
     "output_type": "execute_result"
    }
   ],
   "source": [
    "#nesting tuples\n",
    "NT = (1,3,('hi','bye'))\n",
    "print(NT[2])\n",
    "NT[2][0]"
   ]
  },
  {
   "cell_type": "markdown",
   "id": "f352e2e2-ebe3-4980-94a6-79f2360227c5",
   "metadata": {},
   "source": [
    "<h3>Lists</h3>"
   ]
  },
  {
   "cell_type": "code",
   "execution_count": 56,
   "id": "69f590cb-f4c3-4869-974f-0ce72268616b",
   "metadata": {},
   "outputs": [
    {
     "data": {
      "text/plain": [
       "'Ali'"
      ]
     },
     "execution_count": 56,
     "metadata": {},
     "output_type": "execute_result"
    }
   ],
   "source": [
    "L = ['Asma', 23, 34.5, 'Ali']\n",
    "L[-1]  #represents last element"
   ]
  },
  {
   "cell_type": "code",
   "execution_count": 62,
   "id": "217adb50-9af6-4a76-bdcf-534630f3a8f0",
   "metadata": {},
   "outputs": [
    {
     "data": {
      "text/plain": [
       "['Ali']"
      ]
     },
     "execution_count": 62,
     "metadata": {},
     "output_type": "execute_result"
    }
   ],
   "source": [
    "L[3:4] #slicing"
   ]
  },
  {
   "cell_type": "code",
   "execution_count": 64,
   "id": "0856432e-f67a-4969-8d5e-7c79b7e0dae9",
   "metadata": {},
   "outputs": [
    {
     "data": {
      "text/plain": [
       "['Asma', 23, 34.5, 'Ali', 3, 5]"
      ]
     },
     "execution_count": 64,
     "metadata": {},
     "output_type": "execute_result"
    }
   ],
   "source": [
    "L2 = L + [3,5]\n",
    "L2"
   ]
  },
  {
   "cell_type": "code",
   "execution_count": 188,
   "id": "9c1dad34-f16d-42b1-9a9f-1083574f6a66",
   "metadata": {},
   "outputs": [
    {
     "name": "stdout",
     "output_type": "stream",
     "text": [
      "['Fouzia Ali', 23, 34.5, 'Ali', 5, 'bye', 8]\n"
     ]
    }
   ],
   "source": [
    "#Mutable, so instead of creating new list, existing can be modified\n",
    "#everytime code is executed, it adds the element\n",
    "L2.extend(['bye',8])\n",
    "print(L2)"
   ]
  },
  {
   "cell_type": "code",
   "execution_count": 190,
   "id": "124f6696-d2ad-4367-b916-6e56f8f1f6e9",
   "metadata": {},
   "outputs": [
    {
     "data": {
      "text/plain": [
       "['Fouzia Ali', 23, 34.5, 'Ali', 5, 'bye', 8, ['hi', 45]]"
      ]
     },
     "execution_count": 190,
     "metadata": {},
     "output_type": "execute_result"
    }
   ],
   "source": [
    "L2.append(['hi', 45])\n",
    "L2"
   ]
  },
  {
   "cell_type": "code",
   "execution_count": 176,
   "id": "bf3bde3a-85ee-481c-9f07-3870627b2d39",
   "metadata": {},
   "outputs": [
    {
     "data": {
      "text/plain": [
       "['Asma', 23, 34.5, 'Ali', 5, 'bye', 8, ['hi', 45]]"
      ]
     },
     "execution_count": 176,
     "metadata": {},
     "output_type": "execute_result"
    }
   ],
   "source": [
    "L2.remove(3)\n",
    "L2"
   ]
  },
  {
   "cell_type": "code",
   "execution_count": 192,
   "id": "ebe548a2-71a2-45ab-89f1-f93d46ce74f3",
   "metadata": {},
   "outputs": [
    {
     "data": {
      "text/plain": [
       "['Fouzia Ali', 23, 34.5, 'Ali', 5, 'bye', 8, ['hi', 45]]"
      ]
     },
     "execution_count": 192,
     "metadata": {},
     "output_type": "execute_result"
    }
   ],
   "source": [
    "L2[0] = 'Fouzia Ali'\n",
    "L2"
   ]
  },
  {
   "cell_type": "code",
   "execution_count": 194,
   "id": "a9546b27-8ef4-423c-8cd2-53b608ba8570",
   "metadata": {},
   "outputs": [
    {
     "data": {
      "text/plain": [
       "['Fouzia Ali', 23, 34.5, 'Ali', 5, 'bye', 8]"
      ]
     },
     "execution_count": 194,
     "metadata": {},
     "output_type": "execute_result"
    }
   ],
   "source": [
    "del(L2[-1])\n",
    "L2"
   ]
  },
  {
   "cell_type": "code",
   "execution_count": 202,
   "id": "76d5ef8b-196b-4817-aa1c-b15b62f8a538",
   "metadata": {},
   "outputs": [
    {
     "data": {
      "text/plain": [
       "['A', 'B', 'C']"
      ]
     },
     "execution_count": 202,
     "metadata": {},
     "output_type": "execute_result"
    }
   ],
   "source": [
    "'Fouzia Ali'.split()  #to convert strings into lists\n",
    "'A,B,C'.split(\",\")"
   ]
  },
  {
   "cell_type": "code",
   "execution_count": 204,
   "id": "42791a57-da5c-4855-93e3-b2c8a88556c3",
   "metadata": {},
   "outputs": [],
   "source": [
    "# Aliasing: multiple names referring to the same object\n",
    "L3=L2 #any changes to L3 will also affect L2 and vice versa"
   ]
  },
  {
   "cell_type": "code",
   "execution_count": 206,
   "id": "7f72c908-fbcb-439a-84ad-8e7a24427760",
   "metadata": {},
   "outputs": [],
   "source": [
    "#Clone: creating copy of the original list\n",
    "L4=L3[:] # any changes to one will not affect the other"
   ]
  },
  {
   "cell_type": "code",
   "execution_count": 208,
   "id": "e9db6cc9-9ce2-4d8c-90d4-e2e9b975ae79",
   "metadata": {},
   "outputs": [
    {
     "name": "stdout",
     "output_type": "stream",
     "text": [
      "Help on list object:\n",
      "\n",
      "class list(object)\n",
      " |  list(iterable=(), /)\n",
      " |\n",
      " |  Built-in mutable sequence.\n",
      " |\n",
      " |  If no argument is given, the constructor creates a new empty list.\n",
      " |  The argument must be an iterable if specified.\n",
      " |\n",
      " |  Methods defined here:\n",
      " |\n",
      " |  __add__(self, value, /)\n",
      " |      Return self+value.\n",
      " |\n",
      " |  __contains__(self, key, /)\n",
      " |      Return bool(key in self).\n",
      " |\n",
      " |  __delitem__(self, key, /)\n",
      " |      Delete self[key].\n",
      " |\n",
      " |  __eq__(self, value, /)\n",
      " |      Return self==value.\n",
      " |\n",
      " |  __ge__(self, value, /)\n",
      " |      Return self>=value.\n",
      " |\n",
      " |  __getattribute__(self, name, /)\n",
      " |      Return getattr(self, name).\n",
      " |\n",
      " |  __getitem__(self, index, /)\n",
      " |      Return self[index].\n",
      " |\n",
      " |  __gt__(self, value, /)\n",
      " |      Return self>value.\n",
      " |\n",
      " |  __iadd__(self, value, /)\n",
      " |      Implement self+=value.\n",
      " |\n",
      " |  __imul__(self, value, /)\n",
      " |      Implement self*=value.\n",
      " |\n",
      " |  __init__(self, /, *args, **kwargs)\n",
      " |      Initialize self.  See help(type(self)) for accurate signature.\n",
      " |\n",
      " |  __iter__(self, /)\n",
      " |      Implement iter(self).\n",
      " |\n",
      " |  __le__(self, value, /)\n",
      " |      Return self<=value.\n",
      " |\n",
      " |  __len__(self, /)\n",
      " |      Return len(self).\n",
      " |\n",
      " |  __lt__(self, value, /)\n",
      " |      Return self<value.\n",
      " |\n",
      " |  __mul__(self, value, /)\n",
      " |      Return self*value.\n",
      " |\n",
      " |  __ne__(self, value, /)\n",
      " |      Return self!=value.\n",
      " |\n",
      " |  __repr__(self, /)\n",
      " |      Return repr(self).\n",
      " |\n",
      " |  __reversed__(self, /)\n",
      " |      Return a reverse iterator over the list.\n",
      " |\n",
      " |  __rmul__(self, value, /)\n",
      " |      Return value*self.\n",
      " |\n",
      " |  __setitem__(self, key, value, /)\n",
      " |      Set self[key] to value.\n",
      " |\n",
      " |  __sizeof__(self, /)\n",
      " |      Return the size of the list in memory, in bytes.\n",
      " |\n",
      " |  append(self, object, /)\n",
      " |      Append object to the end of the list.\n",
      " |\n",
      " |  clear(self, /)\n",
      " |      Remove all items from list.\n",
      " |\n",
      " |  copy(self, /)\n",
      " |      Return a shallow copy of the list.\n",
      " |\n",
      " |  count(self, value, /)\n",
      " |      Return number of occurrences of value.\n",
      " |\n",
      " |  extend(self, iterable, /)\n",
      " |      Extend list by appending elements from the iterable.\n",
      " |\n",
      " |  index(self, value, start=0, stop=9223372036854775807, /)\n",
      " |      Return first index of value.\n",
      " |\n",
      " |      Raises ValueError if the value is not present.\n",
      " |\n",
      " |  insert(self, index, object, /)\n",
      " |      Insert object before index.\n",
      " |\n",
      " |  pop(self, index=-1, /)\n",
      " |      Remove and return item at index (default last).\n",
      " |\n",
      " |      Raises IndexError if list is empty or index is out of range.\n",
      " |\n",
      " |  remove(self, value, /)\n",
      " |      Remove first occurrence of value.\n",
      " |\n",
      " |      Raises ValueError if the value is not present.\n",
      " |\n",
      " |  reverse(self, /)\n",
      " |      Reverse *IN PLACE*.\n",
      " |\n",
      " |  sort(self, /, *, key=None, reverse=False)\n",
      " |      Sort the list in ascending order and return None.\n",
      " |\n",
      " |      The sort is in-place (i.e. the list itself is modified) and stable (i.e. the\n",
      " |      order of two equal elements is maintained).\n",
      " |\n",
      " |      If a key function is given, apply it once to each list item and sort them,\n",
      " |      ascending or descending, according to their function values.\n",
      " |\n",
      " |      The reverse flag can be set to sort in descending order.\n",
      " |\n",
      " |  ----------------------------------------------------------------------\n",
      " |  Class methods defined here:\n",
      " |\n",
      " |  __class_getitem__(...)\n",
      " |      See PEP 585\n",
      " |\n",
      " |  ----------------------------------------------------------------------\n",
      " |  Static methods defined here:\n",
      " |\n",
      " |  __new__(*args, **kwargs)\n",
      " |      Create and return a new object.  See help(type) for accurate signature.\n",
      " |\n",
      " |  ----------------------------------------------------------------------\n",
      " |  Data and other attributes defined here:\n",
      " |\n",
      " |  __hash__ = None\n",
      "\n"
     ]
    }
   ],
   "source": [
    "help(L2)"
   ]
  },
  {
   "cell_type": "markdown",
   "id": "96deacbe-df89-4e70-a4f8-1017886de196",
   "metadata": {},
   "source": [
    "<h3>Dictionaries</h3>"
   ]
  },
  {
   "cell_type": "code",
   "execution_count": 2,
   "id": "57415c89-00f9-4702-aad5-12d35d10c297",
   "metadata": {},
   "outputs": [
    {
     "data": {
      "text/plain": [
       "1996"
      ]
     },
     "execution_count": 2,
     "metadata": {},
     "output_type": "execute_result"
    }
   ],
   "source": [
    "dict= {'thriller': 1982, 'mein pakistan hun': 1994, 'good bye': 1996}\n",
    "dict['good bye']   #accessed through key"
   ]
  },
  {
   "cell_type": "code",
   "execution_count": 6,
   "id": "8efb3d31-f927-4746-83bc-71dc5a8fa81d",
   "metadata": {},
   "outputs": [
    {
     "data": {
      "text/plain": [
       "{'thriller': 1982,\n",
       " 'mein pakistan hun': 1994,\n",
       " 'good bye': 1996,\n",
       " 'welcome': 2005}"
      ]
     },
     "execution_count": 6,
     "metadata": {},
     "output_type": "execute_result"
    }
   ],
   "source": [
    "dict['welcome']=2005   #to add new key and value\n",
    "dict"
   ]
  },
  {
   "cell_type": "code",
   "execution_count": 8,
   "id": "aea1ea83-36c0-477f-b282-5772bbb6992e",
   "metadata": {},
   "outputs": [
    {
     "data": {
      "text/plain": [
       "{'mein pakistan hun': 1994, 'good bye': 1996, 'welcome': 2005}"
      ]
     },
     "execution_count": 8,
     "metadata": {},
     "output_type": "execute_result"
    }
   ],
   "source": [
    "del(dict['thriller'])\n",
    "dict"
   ]
  },
  {
   "cell_type": "code",
   "execution_count": 10,
   "id": "4d8df87a-731f-47d7-8ad9-a2e522dacdc7",
   "metadata": {},
   "outputs": [
    {
     "data": {
      "text/plain": [
       "True"
      ]
     },
     "execution_count": 10,
     "metadata": {},
     "output_type": "execute_result"
    }
   ],
   "source": [
    "'good bye' in dict #to check if exist or not"
   ]
  },
  {
   "cell_type": "code",
   "execution_count": 12,
   "id": "b911b487-1ac2-4390-ae68-2bdefc5c3667",
   "metadata": {},
   "outputs": [
    {
     "data": {
      "text/plain": [
       "False"
      ]
     },
     "execution_count": 12,
     "metadata": {},
     "output_type": "execute_result"
    }
   ],
   "source": [
    "'hello' in dict"
   ]
  },
  {
   "cell_type": "code",
   "execution_count": 14,
   "id": "4871512b-deab-4a91-8e88-192587f1da54",
   "metadata": {},
   "outputs": [
    {
     "data": {
      "text/plain": [
       "dict_keys(['mein pakistan hun', 'good bye', 'welcome'])"
      ]
     },
     "execution_count": 14,
     "metadata": {},
     "output_type": "execute_result"
    }
   ],
   "source": [
    "dict.keys()"
   ]
  },
  {
   "cell_type": "code",
   "execution_count": 16,
   "id": "2476070a-7a9c-4616-bbf3-18e7b57e0193",
   "metadata": {},
   "outputs": [
    {
     "data": {
      "text/plain": [
       "dict_values([1994, 1996, 2005])"
      ]
     },
     "execution_count": 16,
     "metadata": {},
     "output_type": "execute_result"
    }
   ],
   "source": [
    "dict.values()"
   ]
  },
  {
   "cell_type": "markdown",
   "id": "26b8b72c-362d-4feb-b68b-e79918bc309c",
   "metadata": {},
   "source": [
    "<h3>Sets</h3>"
   ]
  },
  {
   "cell_type": "code",
   "execution_count": 35,
   "id": "181218c3-1a0f-46ed-8aed-591ae3e88640",
   "metadata": {},
   "outputs": [],
   "source": [
    "even_no_set={2,4,6,8}\n"
   ]
  },
  {
   "cell_type": "code",
   "execution_count": 7,
   "id": "28c2ddb4-72de-4094-b647-7b98ea794e68",
   "metadata": {},
   "outputs": [
    {
     "name": "stdout",
     "output_type": "stream",
     "text": [
      "{'faiza', 'sana', 'Hira'}\n"
     ]
    }
   ],
   "source": [
    "name_list = ['sana', 'Hira', 'faiza', 'sana']\n",
    "name_set = set(name_list)   #will convert list into set and remove duplicate values\n",
    "print(name_set)"
   ]
  },
  {
   "cell_type": "code",
   "execution_count": 23,
   "id": "117e6302-1a1e-4e7f-a7d8-82e33ff29514",
   "metadata": {},
   "outputs": [
    {
     "name": "stdout",
     "output_type": "stream",
     "text": [
      "{'apple', 'grapes', 'orange', 'banana'}\n"
     ]
    }
   ],
   "source": [
    "fruit_set = {'orange', 'apple', 'banana'}\n",
    "fruit_set.add('grapes')\n",
    "print(fruit_set)"
   ]
  },
  {
   "cell_type": "code",
   "execution_count": 25,
   "id": "7ff75614-82e0-41ad-9ebe-1953512a4717",
   "metadata": {},
   "outputs": [
    {
     "name": "stdout",
     "output_type": "stream",
     "text": [
      "{'apple', 'grapes', 'orange'}\n"
     ]
    }
   ],
   "source": [
    "fruit_set.remove('banana')\n",
    "print(fruit_set)"
   ]
  },
  {
   "cell_type": "code",
   "execution_count": 29,
   "id": "c43401f9-02cb-4a84-9c1f-ed2456ca5cd6",
   "metadata": {},
   "outputs": [
    {
     "data": {
      "text/plain": [
       "True"
      ]
     },
     "execution_count": 29,
     "metadata": {},
     "output_type": "execute_result"
    }
   ],
   "source": [
    "'apple' in fruit_set"
   ]
  },
  {
   "cell_type": "code",
   "execution_count": 35,
   "id": "c3662b72-8284-4d28-9423-7403de8b13fe",
   "metadata": {},
   "outputs": [
    {
     "name": "stdout",
     "output_type": "stream",
     "text": [
      "{'grapes'}\n"
     ]
    }
   ],
   "source": [
    "fvrt_fruit = {'grapes', 'water melon'}\n",
    "common_set = fruit_set & fvrt_fruit   #returns intersection of sets\n",
    "print(common_set)"
   ]
  },
  {
   "cell_type": "code",
   "execution_count": 37,
   "id": "5bcdcfc4-7c82-4be1-82d3-8d1e4b551fcb",
   "metadata": {},
   "outputs": [
    {
     "data": {
      "text/plain": [
       "{'apple', 'grapes', 'orange', 'water melon'}"
      ]
     },
     "execution_count": 37,
     "metadata": {},
     "output_type": "execute_result"
    }
   ],
   "source": [
    "fruit_set.union(fvrt_fruit)"
   ]
  },
  {
   "cell_type": "code",
   "execution_count": 41,
   "id": "db2cce86-6f50-438b-b245-395d0bb7e854",
   "metadata": {},
   "outputs": [
    {
     "data": {
      "text/plain": [
       "True"
      ]
     },
     "execution_count": 41,
     "metadata": {},
     "output_type": "execute_result"
    }
   ],
   "source": [
    "my_fruit={'apple', 'orange'}\n",
    "my_fruit.issubset(fruit_set)"
   ]
  },
  {
   "cell_type": "code",
   "execution_count": 43,
   "id": "79674490-419b-4be0-ba52-093c28ecd2aa",
   "metadata": {},
   "outputs": [
    {
     "data": {
      "text/plain": [
       "True"
      ]
     },
     "execution_count": 43,
     "metadata": {},
     "output_type": "execute_result"
    }
   ],
   "source": [
    "fruit_set.issuperset(my_fruit)"
   ]
  },
  {
   "cell_type": "code",
   "execution_count": 45,
   "id": "896c7a83-1a4f-420a-a56d-920442480ca6",
   "metadata": {},
   "outputs": [
    {
     "name": "stdout",
     "output_type": "stream",
     "text": [
      "15\n",
      "9\n"
     ]
    }
   ],
   "source": [
    "list_A =[2,3,4,2,4]\n",
    "set_A={2,3,4,2,4}\n",
    "print(sum(list_A))\n",
    "print(sum(set_A)) #will only add uniqe values"
   ]
  },
  {
   "cell_type": "code",
   "execution_count": null,
   "id": "a64c2ddb-9bfb-4693-9db5-7393ead99a8e",
   "metadata": {},
   "outputs": [],
   "source": []
  }
 ],
 "metadata": {
  "kernelspec": {
   "display_name": "Python [conda env:base] *",
   "language": "python",
   "name": "conda-base-py"
  },
  "language_info": {
   "codemirror_mode": {
    "name": "ipython",
    "version": 3
   },
   "file_extension": ".py",
   "mimetype": "text/x-python",
   "name": "python",
   "nbconvert_exporter": "python",
   "pygments_lexer": "ipython3",
   "version": "3.12.7"
  }
 },
 "nbformat": 4,
 "nbformat_minor": 5
}
